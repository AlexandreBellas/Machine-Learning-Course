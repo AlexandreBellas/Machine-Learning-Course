{
 "cells": [
  {
   "cell_type": "markdown",
   "metadata": {
    "colab_type": "text",
    "id": "B6pycK2JFh1I"
   },
   "source": [
    "# Aula 05 - Exercício 04\n",
    "\n",
    "### Alunos:\n",
    " - \n",
    " - "
   ]
  },
  {
   "cell_type": "markdown",
   "metadata": {
    "colab_type": "text",
    "id": "Edrz0weR9EkM"
   },
   "source": [
    "## Perceptron e Data augmentation \n",
    "Neste exercicio utilizaremos o classificador Perceptron para classificar dois dígitos. No código abaixo os dois digitos são carregados e exibidos lado a lado."
   ]
  },
  {
   "cell_type": "code",
   "execution_count": null,
   "metadata": {
    "colab": {
     "base_uri": "https://localhost:8080/",
     "height": 251
    },
    "colab_type": "code",
    "executionInfo": {
     "elapsed": 1579,
     "status": "ok",
     "timestamp": 1553173968464,
     "user": {
      "displayName": "Felipe Padula Sanches",
      "photoUrl": "https://lh4.googleusercontent.com/-nernBhYcW4o/AAAAAAAAAAI/AAAAAAAANRw/LcF4_Q1FmN8/s64/photo.jpg",
      "userId": "18187017750627346096"
     },
     "user_tz": 180
    },
    "id": "o_vJvAyWwzCA",
    "outputId": "ecc2ef77-7f36-4560-a8af-3db6941e0151"
   },
   "outputs": [],
   "source": [
    "from skimage.io import imread\n",
    "from matplotlib import pyplot as plt\n",
    "\n",
    "# Lendo as duas imagens originais\n",
    "V = imread(\"V.png\", as_grey=True)\n",
    "V_inv = imread(\"inv_V.png\", as_grey=True)\n",
    "\n",
    "# Figura vai ter 1 linha e 2 colunas\n",
    "rows = 1\n",
    "columns = 2\n",
    "fig = plt.figure(figsize=(8, 8))\n",
    "\n",
    "# Exibindo primeira imagem\n",
    "fig.add_subplot(rows, columns, 1)\n",
    "plt.grid(False)\n",
    "plt.imshow(V)\n",
    "\n",
    "# Exibindo segunda imagem\n",
    "fig.add_subplot(rows, columns, 2)\n",
    "plt.grid(False)\n",
    "plt.imshow(V_inv)\n",
    "plt.show()"
   ]
  },
  {
   "cell_type": "markdown",
   "metadata": {
    "colab_type": "text",
    "id": "nP7SreIS_w5E"
   },
   "source": [
    "\n",
    "\n",
    "---\n",
    "\n",
    "- Dado o código acima, aplique ruído (random_nosie) no primeiro símbolo e rotacione (transform.rotate) em 25º o segundo símbolo antes de exibi-los.\n",
    "  - Dica: Para o `random_noise` utilize parametro `mode='pepper' ` e  para `transform.rotate` utilize `preserve_range=True, mode='constant', cval=1`"
   ]
  },
  {
   "cell_type": "code",
   "execution_count": 0,
   "metadata": {
    "colab": {},
    "colab_type": "code",
    "id": "DYTrwfNoEyHe"
   },
   "outputs": [],
   "source": [
    "from skimage.util import random_noise\n",
    "from skimage import transform"
   ]
  },
  {
   "cell_type": "markdown",
   "metadata": {
    "colab_type": "text",
    "id": "WmxRTXAdBQU7"
   },
   "source": [
    "\n",
    "\n",
    "---\n",
    "\n",
    "- Agora defina a função `gen_data` abaixo. A função recebe como parâmetros: uma imagem base (v ou v invertido), a quantidade de dados artificiais a serem gerados, a classe da imagem base passada e uma lista de dados e labels. A função deve concatenar (`append`) as imagens geradas na lista `data` e suas respectivas classes na lista `target`.\n",
    "\n",
    "  - Dica: Utilize a função `random.uniform(-a, a)` para gerar valores aleatórios entre -a e a para criar angulos de rotação variados.\n",
    "  - Dica: Utilize valores diferentes para o parâmetro `seed` do random_noise para produzir resultados diferentes"
   ]
  },
  {
   "cell_type": "code",
   "execution_count": 0,
   "metadata": {
    "colab": {},
    "colab_type": "code",
    "id": "EZ6MAsBG121k"
   },
   "outputs": [],
   "source": [
    "import random\n",
    "\n",
    "def gen_data(base_image, quantity, label, data, target):\n",
    "  #Defina a função aqui"
   ]
  },
  {
   "cell_type": "markdown",
   "metadata": {
    "colab_type": "text",
    "id": "w4jaRJrBDbYp"
   },
   "source": [
    "\n",
    "\n",
    "---\n",
    "\n",
    "\n",
    "- Edite a linha abaixo do comentário para exibir uma imagem 4x4 do dataset criado acima."
   ]
  },
  {
   "cell_type": "code",
   "execution_count": 0,
   "metadata": {
    "colab": {},
    "colab_type": "code",
    "id": "U-ds_v6X2X10"
   },
   "outputs": [],
   "source": [
    "import numpy as np\n",
    "\n",
    "x = []\n",
    "y = []\n",
    "\n",
    "gen_data(V, 8 , 0, x, y)\n",
    "gen_data(V_inv, 8, 1, x, y)\n",
    "x = np.asarray(x)\n",
    "y = np.asarray(y)\n",
    "############################"
   ]
  },
  {
   "cell_type": "markdown",
   "metadata": {
    "colab_type": "text",
    "id": "wRWpOUAUEUjk"
   },
   "source": [
    "\n",
    "\n",
    "---\n",
    "\n",
    "- Separe o dataset criado em 12 imagens de treinamento e 4 imagens de teste utilizando a função `train_test_split`. Depois treine um classificador do tipo Perceptron no conjunto de treino. Calcule a acurácia para os conjuntos de treino e teste.\n",
    "\n",
    "  - Dica: Você deve transformar as dimensões do conjunto de entrada para utilizar o Perceptron. Uma observação do conjunto é uma matriz 30x30. Para aplicar essa matriz no perceptron, você deve transformá-la em um vetor com 30x30 =900 elementos. Para isso utilize a função reshape da biblioteca numpy para transformar o conjunto x por inteiro."
   ]
  },
  {
   "cell_type": "code",
   "execution_count": 0,
   "metadata": {
    "colab": {},
    "colab_type": "code",
    "id": "T31FabIn5bMY"
   },
   "outputs": [],
   "source": [
    "from sklearn.model_selection import train_test_split\n",
    "from sklearn.linear_model import Perceptron\n",
    "from sklearn.metrics import accuracy_score"
   ]
  },
  {
   "cell_type": "markdown",
   "metadata": {
    "colab_type": "text",
    "id": "z8OfZnPPJU-s"
   },
   "source": [
    "\n",
    "\n",
    "---\n",
    "\n",
    "Devido à natureza da função threshold, podemos ter uma falsa sensação de quê nosso classificador classifica os exemplos com a mesma confiança. Porém, isso não é verdadeiro. No caso do perceptron utilizado, podemos ter uma medida da confiança do classificador para um dado exemplo calculando a distância relativa desse exemplo para o hiperplano separador. Essa medida pode ser obtida através da função `decision_function(X)`\n",
    "\n",
    "- Utilize a função  `decision_function(X)` para calcular a distância dos exemplos query0.png ~ query4.png ao hiperplano separador do classificador treinado no item anterior e analise a relação entre distância x confiança x qualidade do símbolo na imagem."
   ]
  },
  {
   "cell_type": "code",
   "execution_count": 0,
   "metadata": {
    "colab": {},
    "colab_type": "code",
    "id": "Jr88pwaELwTA"
   },
   "outputs": [],
   "source": []
  }
 ],
 "metadata": {
  "colab": {
   "collapsed_sections": [],
   "name": "Aula05-Exercicio04.ipynb",
   "provenance": [],
   "toc_visible": true,
   "version": "0.3.2"
  },
  "kernelspec": {
   "display_name": "Python 3",
   "language": "python",
   "name": "python3"
  },
  "language_info": {
   "codemirror_mode": {
    "name": "ipython",
    "version": 3
   },
   "file_extension": ".py",
   "mimetype": "text/x-python",
   "name": "python",
   "nbconvert_exporter": "python",
   "pygments_lexer": "ipython3",
   "version": "3.7.1"
  }
 },
 "nbformat": 4,
 "nbformat_minor": 1
}
