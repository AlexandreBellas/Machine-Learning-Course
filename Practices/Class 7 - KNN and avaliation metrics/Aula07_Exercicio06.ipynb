{
 "cells": [
  {
   "cell_type": "markdown",
   "metadata": {
    "colab_type": "text",
    "id": "LTpbHqrlBaNw"
   },
   "source": [
    "# Aula 07 - Exercício 06\n",
    "## KNN e Métricas de avaliação\n",
    "### Alunos:\n",
    " - Alexandre Batistella Bellas, 9763168\n",
    " - Moisés Botarro Ferraz Silva, 8504135\n"
   ]
  },
  {
   "cell_type": "markdown",
   "metadata": {
    "colab_type": "text",
    "id": "uTXmrvNrBkJB"
   },
   "source": [
    "O dataset [\"Breast Cancer Wisconsin\"](https://archive.ics.uci.edu/ml/datasets/Breast+Cancer+Wisconsin+(Original) é um dataset que contém 699 instâncias, cada uma com 10 atributos númericos e 1 atributo correspondente a classe. A idéia do dataset é conseguir classificar um tumor como benigno ou maligno a partir de 10 variáveis descritivas. Foi adicionado um cabeçalho no arquivo original para facilitar seu manuseio.\n",
    "\n",
    "- Notas:\n",
    "\n",
    "  - **O dataset possui valores ausentes, representados por \"?\"**\n",
    "  - A primeira variável do dataset é o ID de cada paciente. Essa variável **NÃO** deve ser utilizada no classificador \n",
    "\n",
    "---\n",
    "\n",
    "- Carregue o dataset a partir do arquivo fornecido, substituindo os valores ausentes pela média dos valores daquela coluna. Utilize as classes `sklearn.impute.SimpleImputer` e a biblioteca `pandas`."
   ]
  },
  {
   "cell_type": "code",
   "execution_count": 1,
   "metadata": {
    "colab": {},
    "colab_type": "code",
    "id": "T5VRbRDdUArr"
   },
   "outputs": [
    {
     "name": "stdout",
     "output_type": "stream",
     "text": [
      "====== Exemplo de dado faltante ======\n",
      "----- Lendo arquivo bruto -----\n",
      "id                 1057013\n",
      "clump_thickness          8\n",
      "u_cell_size              4\n",
      "u_cell_shape             5\n",
      "marg_adhesion            1\n",
      "epi_cell_size            2\n",
      "bare_nuclei              ?\n",
      "bland_chrom              7\n",
      "norm_nucl                3\n",
      "mitoses                  1\n",
      "class                    4\n",
      "Name: 23, dtype: object\n",
      "----- Utilizando na_values -----\n",
      "id                 1057013.0\n",
      "clump_thickness          8.0\n",
      "u_cell_size              4.0\n",
      "u_cell_shape             5.0\n",
      "marg_adhesion            1.0\n",
      "epi_cell_size            2.0\n",
      "bare_nuclei              NaN\n",
      "bland_chrom              7.0\n",
      "norm_nucl                3.0\n",
      "mitoses                  1.0\n",
      "class                    4.0\n",
      "Name: 23, dtype: float64\n"
     ]
    },
    {
     "data": {
      "text/html": [
       "<div>\n",
       "<style scoped>\n",
       "    .dataframe tbody tr th:only-of-type {\n",
       "        vertical-align: middle;\n",
       "    }\n",
       "\n",
       "    .dataframe tbody tr th {\n",
       "        vertical-align: top;\n",
       "    }\n",
       "\n",
       "    .dataframe thead th {\n",
       "        text-align: right;\n",
       "    }\n",
       "</style>\n",
       "<table border=\"1\" class=\"dataframe\">\n",
       "  <thead>\n",
       "    <tr style=\"text-align: right;\">\n",
       "      <th></th>\n",
       "      <th>id</th>\n",
       "      <th>clump_thickness</th>\n",
       "      <th>u_cell_size</th>\n",
       "      <th>u_cell_shape</th>\n",
       "      <th>marg_adhesion</th>\n",
       "      <th>epi_cell_size</th>\n",
       "      <th>bare_nuclei</th>\n",
       "      <th>bland_chrom</th>\n",
       "      <th>norm_nucl</th>\n",
       "      <th>mitoses</th>\n",
       "      <th>class</th>\n",
       "    </tr>\n",
       "  </thead>\n",
       "  <tbody>\n",
       "    <tr>\n",
       "      <th>0</th>\n",
       "      <td>1000025</td>\n",
       "      <td>5</td>\n",
       "      <td>1</td>\n",
       "      <td>1</td>\n",
       "      <td>1</td>\n",
       "      <td>2</td>\n",
       "      <td>1.0</td>\n",
       "      <td>3</td>\n",
       "      <td>1</td>\n",
       "      <td>1</td>\n",
       "      <td>2</td>\n",
       "    </tr>\n",
       "    <tr>\n",
       "      <th>1</th>\n",
       "      <td>1002945</td>\n",
       "      <td>5</td>\n",
       "      <td>4</td>\n",
       "      <td>4</td>\n",
       "      <td>5</td>\n",
       "      <td>7</td>\n",
       "      <td>10.0</td>\n",
       "      <td>3</td>\n",
       "      <td>2</td>\n",
       "      <td>1</td>\n",
       "      <td>2</td>\n",
       "    </tr>\n",
       "    <tr>\n",
       "      <th>2</th>\n",
       "      <td>1015425</td>\n",
       "      <td>3</td>\n",
       "      <td>1</td>\n",
       "      <td>1</td>\n",
       "      <td>1</td>\n",
       "      <td>2</td>\n",
       "      <td>2.0</td>\n",
       "      <td>3</td>\n",
       "      <td>1</td>\n",
       "      <td>1</td>\n",
       "      <td>2</td>\n",
       "    </tr>\n",
       "    <tr>\n",
       "      <th>3</th>\n",
       "      <td>1016277</td>\n",
       "      <td>6</td>\n",
       "      <td>8</td>\n",
       "      <td>8</td>\n",
       "      <td>1</td>\n",
       "      <td>3</td>\n",
       "      <td>4.0</td>\n",
       "      <td>3</td>\n",
       "      <td>7</td>\n",
       "      <td>1</td>\n",
       "      <td>2</td>\n",
       "    </tr>\n",
       "    <tr>\n",
       "      <th>4</th>\n",
       "      <td>1017023</td>\n",
       "      <td>4</td>\n",
       "      <td>1</td>\n",
       "      <td>1</td>\n",
       "      <td>3</td>\n",
       "      <td>2</td>\n",
       "      <td>1.0</td>\n",
       "      <td>3</td>\n",
       "      <td>1</td>\n",
       "      <td>1</td>\n",
       "      <td>2</td>\n",
       "    </tr>\n",
       "    <tr>\n",
       "      <th>5</th>\n",
       "      <td>1017122</td>\n",
       "      <td>8</td>\n",
       "      <td>10</td>\n",
       "      <td>10</td>\n",
       "      <td>8</td>\n",
       "      <td>7</td>\n",
       "      <td>10.0</td>\n",
       "      <td>9</td>\n",
       "      <td>7</td>\n",
       "      <td>1</td>\n",
       "      <td>4</td>\n",
       "    </tr>\n",
       "    <tr>\n",
       "      <th>6</th>\n",
       "      <td>1018099</td>\n",
       "      <td>1</td>\n",
       "      <td>1</td>\n",
       "      <td>1</td>\n",
       "      <td>1</td>\n",
       "      <td>2</td>\n",
       "      <td>10.0</td>\n",
       "      <td>3</td>\n",
       "      <td>1</td>\n",
       "      <td>1</td>\n",
       "      <td>2</td>\n",
       "    </tr>\n",
       "    <tr>\n",
       "      <th>7</th>\n",
       "      <td>1018561</td>\n",
       "      <td>2</td>\n",
       "      <td>1</td>\n",
       "      <td>2</td>\n",
       "      <td>1</td>\n",
       "      <td>2</td>\n",
       "      <td>1.0</td>\n",
       "      <td>3</td>\n",
       "      <td>1</td>\n",
       "      <td>1</td>\n",
       "      <td>2</td>\n",
       "    </tr>\n",
       "    <tr>\n",
       "      <th>8</th>\n",
       "      <td>1033078</td>\n",
       "      <td>2</td>\n",
       "      <td>1</td>\n",
       "      <td>1</td>\n",
       "      <td>1</td>\n",
       "      <td>2</td>\n",
       "      <td>1.0</td>\n",
       "      <td>1</td>\n",
       "      <td>1</td>\n",
       "      <td>5</td>\n",
       "      <td>2</td>\n",
       "    </tr>\n",
       "    <tr>\n",
       "      <th>9</th>\n",
       "      <td>1033078</td>\n",
       "      <td>4</td>\n",
       "      <td>2</td>\n",
       "      <td>1</td>\n",
       "      <td>1</td>\n",
       "      <td>2</td>\n",
       "      <td>1.0</td>\n",
       "      <td>2</td>\n",
       "      <td>1</td>\n",
       "      <td>1</td>\n",
       "      <td>2</td>\n",
       "    </tr>\n",
       "    <tr>\n",
       "      <th>10</th>\n",
       "      <td>1035283</td>\n",
       "      <td>1</td>\n",
       "      <td>1</td>\n",
       "      <td>1</td>\n",
       "      <td>1</td>\n",
       "      <td>1</td>\n",
       "      <td>1.0</td>\n",
       "      <td>3</td>\n",
       "      <td>1</td>\n",
       "      <td>1</td>\n",
       "      <td>2</td>\n",
       "    </tr>\n",
       "    <tr>\n",
       "      <th>11</th>\n",
       "      <td>1036172</td>\n",
       "      <td>2</td>\n",
       "      <td>1</td>\n",
       "      <td>1</td>\n",
       "      <td>1</td>\n",
       "      <td>2</td>\n",
       "      <td>1.0</td>\n",
       "      <td>2</td>\n",
       "      <td>1</td>\n",
       "      <td>1</td>\n",
       "      <td>2</td>\n",
       "    </tr>\n",
       "    <tr>\n",
       "      <th>12</th>\n",
       "      <td>1041801</td>\n",
       "      <td>5</td>\n",
       "      <td>3</td>\n",
       "      <td>3</td>\n",
       "      <td>3</td>\n",
       "      <td>2</td>\n",
       "      <td>3.0</td>\n",
       "      <td>4</td>\n",
       "      <td>4</td>\n",
       "      <td>1</td>\n",
       "      <td>4</td>\n",
       "    </tr>\n",
       "    <tr>\n",
       "      <th>13</th>\n",
       "      <td>1043999</td>\n",
       "      <td>1</td>\n",
       "      <td>1</td>\n",
       "      <td>1</td>\n",
       "      <td>1</td>\n",
       "      <td>2</td>\n",
       "      <td>3.0</td>\n",
       "      <td>3</td>\n",
       "      <td>1</td>\n",
       "      <td>1</td>\n",
       "      <td>2</td>\n",
       "    </tr>\n",
       "    <tr>\n",
       "      <th>14</th>\n",
       "      <td>1044572</td>\n",
       "      <td>8</td>\n",
       "      <td>7</td>\n",
       "      <td>5</td>\n",
       "      <td>10</td>\n",
       "      <td>7</td>\n",
       "      <td>9.0</td>\n",
       "      <td>5</td>\n",
       "      <td>5</td>\n",
       "      <td>4</td>\n",
       "      <td>4</td>\n",
       "    </tr>\n",
       "    <tr>\n",
       "      <th>15</th>\n",
       "      <td>1047630</td>\n",
       "      <td>7</td>\n",
       "      <td>4</td>\n",
       "      <td>6</td>\n",
       "      <td>4</td>\n",
       "      <td>6</td>\n",
       "      <td>1.0</td>\n",
       "      <td>4</td>\n",
       "      <td>3</td>\n",
       "      <td>1</td>\n",
       "      <td>4</td>\n",
       "    </tr>\n",
       "    <tr>\n",
       "      <th>16</th>\n",
       "      <td>1048672</td>\n",
       "      <td>4</td>\n",
       "      <td>1</td>\n",
       "      <td>1</td>\n",
       "      <td>1</td>\n",
       "      <td>2</td>\n",
       "      <td>1.0</td>\n",
       "      <td>2</td>\n",
       "      <td>1</td>\n",
       "      <td>1</td>\n",
       "      <td>2</td>\n",
       "    </tr>\n",
       "    <tr>\n",
       "      <th>17</th>\n",
       "      <td>1049815</td>\n",
       "      <td>4</td>\n",
       "      <td>1</td>\n",
       "      <td>1</td>\n",
       "      <td>1</td>\n",
       "      <td>2</td>\n",
       "      <td>1.0</td>\n",
       "      <td>3</td>\n",
       "      <td>1</td>\n",
       "      <td>1</td>\n",
       "      <td>2</td>\n",
       "    </tr>\n",
       "    <tr>\n",
       "      <th>18</th>\n",
       "      <td>1050670</td>\n",
       "      <td>10</td>\n",
       "      <td>7</td>\n",
       "      <td>7</td>\n",
       "      <td>6</td>\n",
       "      <td>4</td>\n",
       "      <td>10.0</td>\n",
       "      <td>4</td>\n",
       "      <td>1</td>\n",
       "      <td>2</td>\n",
       "      <td>4</td>\n",
       "    </tr>\n",
       "    <tr>\n",
       "      <th>19</th>\n",
       "      <td>1050718</td>\n",
       "      <td>6</td>\n",
       "      <td>1</td>\n",
       "      <td>1</td>\n",
       "      <td>1</td>\n",
       "      <td>2</td>\n",
       "      <td>1.0</td>\n",
       "      <td>3</td>\n",
       "      <td>1</td>\n",
       "      <td>1</td>\n",
       "      <td>2</td>\n",
       "    </tr>\n",
       "    <tr>\n",
       "      <th>20</th>\n",
       "      <td>1054590</td>\n",
       "      <td>7</td>\n",
       "      <td>3</td>\n",
       "      <td>2</td>\n",
       "      <td>10</td>\n",
       "      <td>5</td>\n",
       "      <td>10.0</td>\n",
       "      <td>5</td>\n",
       "      <td>4</td>\n",
       "      <td>4</td>\n",
       "      <td>4</td>\n",
       "    </tr>\n",
       "    <tr>\n",
       "      <th>21</th>\n",
       "      <td>1054593</td>\n",
       "      <td>10</td>\n",
       "      <td>5</td>\n",
       "      <td>5</td>\n",
       "      <td>3</td>\n",
       "      <td>6</td>\n",
       "      <td>7.0</td>\n",
       "      <td>7</td>\n",
       "      <td>10</td>\n",
       "      <td>1</td>\n",
       "      <td>4</td>\n",
       "    </tr>\n",
       "    <tr>\n",
       "      <th>22</th>\n",
       "      <td>1056784</td>\n",
       "      <td>3</td>\n",
       "      <td>1</td>\n",
       "      <td>1</td>\n",
       "      <td>1</td>\n",
       "      <td>2</td>\n",
       "      <td>1.0</td>\n",
       "      <td>2</td>\n",
       "      <td>1</td>\n",
       "      <td>1</td>\n",
       "      <td>2</td>\n",
       "    </tr>\n",
       "    <tr>\n",
       "      <th>23</th>\n",
       "      <td>1057013</td>\n",
       "      <td>8</td>\n",
       "      <td>4</td>\n",
       "      <td>5</td>\n",
       "      <td>1</td>\n",
       "      <td>2</td>\n",
       "      <td>NaN</td>\n",
       "      <td>7</td>\n",
       "      <td>3</td>\n",
       "      <td>1</td>\n",
       "      <td>4</td>\n",
       "    </tr>\n",
       "    <tr>\n",
       "      <th>24</th>\n",
       "      <td>1059552</td>\n",
       "      <td>1</td>\n",
       "      <td>1</td>\n",
       "      <td>1</td>\n",
       "      <td>1</td>\n",
       "      <td>2</td>\n",
       "      <td>1.0</td>\n",
       "      <td>3</td>\n",
       "      <td>1</td>\n",
       "      <td>1</td>\n",
       "      <td>2</td>\n",
       "    </tr>\n",
       "    <tr>\n",
       "      <th>25</th>\n",
       "      <td>1065726</td>\n",
       "      <td>5</td>\n",
       "      <td>2</td>\n",
       "      <td>3</td>\n",
       "      <td>4</td>\n",
       "      <td>2</td>\n",
       "      <td>7.0</td>\n",
       "      <td>3</td>\n",
       "      <td>6</td>\n",
       "      <td>1</td>\n",
       "      <td>4</td>\n",
       "    </tr>\n",
       "    <tr>\n",
       "      <th>26</th>\n",
       "      <td>1066373</td>\n",
       "      <td>3</td>\n",
       "      <td>2</td>\n",
       "      <td>1</td>\n",
       "      <td>1</td>\n",
       "      <td>1</td>\n",
       "      <td>1.0</td>\n",
       "      <td>2</td>\n",
       "      <td>1</td>\n",
       "      <td>1</td>\n",
       "      <td>2</td>\n",
       "    </tr>\n",
       "    <tr>\n",
       "      <th>27</th>\n",
       "      <td>1066979</td>\n",
       "      <td>5</td>\n",
       "      <td>1</td>\n",
       "      <td>1</td>\n",
       "      <td>1</td>\n",
       "      <td>2</td>\n",
       "      <td>1.0</td>\n",
       "      <td>2</td>\n",
       "      <td>1</td>\n",
       "      <td>1</td>\n",
       "      <td>2</td>\n",
       "    </tr>\n",
       "    <tr>\n",
       "      <th>28</th>\n",
       "      <td>1067444</td>\n",
       "      <td>2</td>\n",
       "      <td>1</td>\n",
       "      <td>1</td>\n",
       "      <td>1</td>\n",
       "      <td>2</td>\n",
       "      <td>1.0</td>\n",
       "      <td>2</td>\n",
       "      <td>1</td>\n",
       "      <td>1</td>\n",
       "      <td>2</td>\n",
       "    </tr>\n",
       "    <tr>\n",
       "      <th>29</th>\n",
       "      <td>1070935</td>\n",
       "      <td>1</td>\n",
       "      <td>1</td>\n",
       "      <td>3</td>\n",
       "      <td>1</td>\n",
       "      <td>2</td>\n",
       "      <td>1.0</td>\n",
       "      <td>1</td>\n",
       "      <td>1</td>\n",
       "      <td>1</td>\n",
       "      <td>2</td>\n",
       "    </tr>\n",
       "  </tbody>\n",
       "</table>\n",
       "</div>"
      ],
      "text/plain": [
       "         id  clump_thickness  u_cell_size  u_cell_shape  marg_adhesion  \\\n",
       "0   1000025                5            1             1              1   \n",
       "1   1002945                5            4             4              5   \n",
       "2   1015425                3            1             1              1   \n",
       "3   1016277                6            8             8              1   \n",
       "4   1017023                4            1             1              3   \n",
       "5   1017122                8           10            10              8   \n",
       "6   1018099                1            1             1              1   \n",
       "7   1018561                2            1             2              1   \n",
       "8   1033078                2            1             1              1   \n",
       "9   1033078                4            2             1              1   \n",
       "10  1035283                1            1             1              1   \n",
       "11  1036172                2            1             1              1   \n",
       "12  1041801                5            3             3              3   \n",
       "13  1043999                1            1             1              1   \n",
       "14  1044572                8            7             5             10   \n",
       "15  1047630                7            4             6              4   \n",
       "16  1048672                4            1             1              1   \n",
       "17  1049815                4            1             1              1   \n",
       "18  1050670               10            7             7              6   \n",
       "19  1050718                6            1             1              1   \n",
       "20  1054590                7            3             2             10   \n",
       "21  1054593               10            5             5              3   \n",
       "22  1056784                3            1             1              1   \n",
       "23  1057013                8            4             5              1   \n",
       "24  1059552                1            1             1              1   \n",
       "25  1065726                5            2             3              4   \n",
       "26  1066373                3            2             1              1   \n",
       "27  1066979                5            1             1              1   \n",
       "28  1067444                2            1             1              1   \n",
       "29  1070935                1            1             3              1   \n",
       "\n",
       "    epi_cell_size  bare_nuclei  bland_chrom  norm_nucl  mitoses  class  \n",
       "0               2          1.0            3          1        1      2  \n",
       "1               7         10.0            3          2        1      2  \n",
       "2               2          2.0            3          1        1      2  \n",
       "3               3          4.0            3          7        1      2  \n",
       "4               2          1.0            3          1        1      2  \n",
       "5               7         10.0            9          7        1      4  \n",
       "6               2         10.0            3          1        1      2  \n",
       "7               2          1.0            3          1        1      2  \n",
       "8               2          1.0            1          1        5      2  \n",
       "9               2          1.0            2          1        1      2  \n",
       "10              1          1.0            3          1        1      2  \n",
       "11              2          1.0            2          1        1      2  \n",
       "12              2          3.0            4          4        1      4  \n",
       "13              2          3.0            3          1        1      2  \n",
       "14              7          9.0            5          5        4      4  \n",
       "15              6          1.0            4          3        1      4  \n",
       "16              2          1.0            2          1        1      2  \n",
       "17              2          1.0            3          1        1      2  \n",
       "18              4         10.0            4          1        2      4  \n",
       "19              2          1.0            3          1        1      2  \n",
       "20              5         10.0            5          4        4      4  \n",
       "21              6          7.0            7         10        1      4  \n",
       "22              2          1.0            2          1        1      2  \n",
       "23              2          NaN            7          3        1      4  \n",
       "24              2          1.0            3          1        1      2  \n",
       "25              2          7.0            3          6        1      4  \n",
       "26              1          1.0            2          1        1      2  \n",
       "27              2          1.0            2          1        1      2  \n",
       "28              2          1.0            2          1        1      2  \n",
       "29              2          1.0            1          1        1      2  "
      ]
     },
     "execution_count": 1,
     "metadata": {},
     "output_type": "execute_result"
    }
   ],
   "source": [
    "import numpy as np\n",
    "import pandas as pd\n",
    "from sklearn.impute import SimpleImputer\n",
    "\n",
    "df = pd.read_csv('breast-cancer-wisconsin.data')\n",
    "print(\"====== Exemplo de dado faltante ======\")\n",
    "print(\"----- Lendo arquivo bruto -----\")\n",
    "print(df.iloc[23])\n",
    "\n",
    "# Queremos que, ao ler arquivo, ? seja substituído por NaN\n",
    "df = pd.read_csv('breast-cancer-wisconsin.data', na_values='?')\n",
    "print(\"----- Utilizando na_values -----\")\n",
    "print(df.iloc[23])\n",
    "\n",
    "df.head(30)"
   ]
  },
  {
   "cell_type": "code",
   "execution_count": 2,
   "metadata": {},
   "outputs": [
    {
     "name": "stdout",
     "output_type": "stream",
     "text": [
      "Nova linha 23: [1.05701300e+06 8.00000000e+00 4.00000000e+00 5.00000000e+00\n",
      " 1.00000000e+00 2.00000000e+00 3.54465593e+00 7.00000000e+00\n",
      " 3.00000000e+00 1.00000000e+00 4.00000000e+00]\n",
      "\n",
      "Média da Coluna onde há dados faltantes: 3.54465593\n"
     ]
    }
   ],
   "source": [
    "# Vamos utilizar o SimpleImputer para substituir os valores faltantes pela média de cada uma das colunas\n",
    "\n",
    "imp_mean = SimpleImputer(missing_values=np.nan, strategy='mean')\n",
    "data = imp_mean.fit_transform(df)\n",
    "\n",
    "print('Nova linha 23: %s\\n' % data[23])\n",
    "\n",
    "# Verificando se valor faltante foi substituído pela média da coluna\n",
    "print('Média da Coluna onde há dados faltantes: %.8f' % np.mean(df['bare_nuclei']))"
   ]
  },
  {
   "cell_type": "markdown",
   "metadata": {
    "colab_type": "text",
    "id": "09jpLsH0JeYH"
   },
   "source": [
    "\n",
    "\n",
    "---\n",
    "- Centralize e normalize os dados e separe 80% do conjunto para treino e 20% para testes. Faça uma divisão dos dados de maneira **estratificada**."
   ]
  },
  {
   "cell_type": "code",
   "execution_count": 3,
   "metadata": {
    "colab": {},
    "colab_type": "code",
    "id": "rNb1jmocLWhG"
   },
   "outputs": [
    {
     "name": "stdout",
     "output_type": "stream",
     "text": [
      "Verificação se os dados de todas as colunas possuem média 0 e variância 1\n",
      "coluna 0: média: -0.00\tstd:  1\n",
      "coluna 1: média: -0.00\tstd:  1\n",
      "coluna 2: média: -0.00\tstd:  1\n",
      "coluna 3: média: 0.00\tstd:  1\n",
      "coluna 4: média: 0.00\tstd:  1\n",
      "coluna 5: média: 0.00\tstd:  1\n",
      "coluna 6: média: 0.00\tstd:  1\n",
      "coluna 7: média: -0.00\tstd:  1\n",
      "coluna 8: média: -0.00\tstd:  1\n"
     ]
    }
   ],
   "source": [
    "from sklearn.model_selection import train_test_split\n",
    "from sklearn.preprocessing import StandardScaler\n",
    "\n",
    "# Para vetor x, retiramos coluna referente aos IDs e à classe\n",
    "x = data[:,1:-1]\n",
    "y = df[df.columns[-1]]\n",
    "\n",
    "# Normalização\n",
    "scaler = StandardScaler()\n",
    "x_norm = scaler.fit_transform(x)\n",
    "\n",
    "print(\"Verificação se os dados de todas as colunas possuem média 0 e variância 1\")\n",
    "for col in range(0, len(x_norm[0])):\n",
    "    print(\"coluna %s: \" % col, end='')\n",
    "    print(\"média: %.2f\" % np.mean(x_norm[:,col]), end='')\n",
    "    print(\"\\tstd: %2.f\" % np.std(x_norm[:,col]))"
   ]
  },
  {
   "cell_type": "code",
   "execution_count": 4,
   "metadata": {},
   "outputs": [],
   "source": [
    "import random\n",
    "random.seed(10) # Para garantir consistência entre diferentes runs\n",
    "\n",
    "# Separaçao dos dados em conjunto de treinamento e teste\n",
    "test_size = 0.2\n",
    "x_train, x_test, y_train, y_test = train_test_split(x_norm, y, test_size=test_size, stratify=y)"
   ]
  },
  {
   "cell_type": "markdown",
   "metadata": {
    "colab_type": "text",
    "id": "XPr0CmMwD5-w"
   },
   "source": [
    "---\n",
    "\n",
    "- Faça classificação no conjunto de testes utilizando 4 classificadores KNN, com K=3 e 15 e p=1 e 2 (distância de Minkowski/Euclidiana). Para cada classificador, calcule e exiba a matriz de confusão bem como a acurácia do classificador. **Para calcular a acurácia, utilize APENAS a matriz de confusão.**"
   ]
  },
  {
   "cell_type": "code",
   "execution_count": 5,
   "metadata": {},
   "outputs": [],
   "source": [
    "# Rotina para imprimir matriz de confusão como um gráfico\n",
    "\n",
    "import numpy as np\n",
    "import matplotlib.pyplot as plt\n",
    "\n",
    "from sklearn import svm, datasets\n",
    "from sklearn.model_selection import train_test_split\n",
    "from sklearn.metrics import confusion_matrix\n",
    "from sklearn.utils.multiclass import unique_labels\n",
    "\n",
    "def plot_confusion_matrix(cm, classes,\n",
    "                          normalize=False,\n",
    "                          cmap=plt.cm.Blues):\n",
    "    \n",
    "    title = 'Confusion Matrix'\n",
    "\n",
    "    fig, ax = plt.subplots()\n",
    "    im = ax.imshow(cm, interpolation='nearest', cmap=cmap)\n",
    "    ax.figure.colorbar(im, ax=ax)\n",
    "    # We want to show all ticks...\n",
    "    ax.set(xticks=np.arange(cm.shape[1]),\n",
    "           yticks=np.arange(cm.shape[0]),\n",
    "           # ... and label them with the respective list entries\n",
    "           xticklabels=classes, yticklabels=classes,\n",
    "           title=title,\n",
    "           ylabel='Predicted label',\n",
    "           xlabel='True label')\n",
    "\n",
    "    # Rotate the tick labels and set their alignment.\n",
    "    ax.xaxis.tick_top()\n",
    "    ax.xaxis.set_label_position('top') \n",
    "\n",
    "    # Loop over data dimensions and create text annotations.\n",
    "    fmt = '.2f' if normalize else 'd'\n",
    "    thresh = cm.max() / 2.\n",
    "    for i in range(cm.shape[0]):\n",
    "        for j in range(cm.shape[1]):\n",
    "            ax.text(j, i, format(cm[i, j], fmt),\n",
    "                    ha=\"center\", va=\"center\",\n",
    "                    color=\"white\" if cm[i, j] > thresh else \"black\")\n",
    "    fig.tight_layout()\n",
    "\n",
    "np.set_printoptions(precision=2)"
   ]
  },
  {
   "cell_type": "code",
   "execution_count": 7,
   "metadata": {
    "colab": {},
    "colab_type": "code",
    "id": "si5kXA-Oyj6O",
    "scrolled": false
   },
   "outputs": [
    {
     "name": "stdout",
     "output_type": "stream",
     "text": [
      "============ KNN para k = 3 e p = 1 ============\n",
      "Confusion Matrix (True Classes: columns, Predicted Classes: rows)\n",
      "[[89  3]\n",
      " [ 2 46]]\n"
     ]
    },
    {
     "data": {
      "image/png": "[encoded data removed]",
      "text/plain": [
       "<Figure size 432x288 with 2 Axes>"
      ]
     },
     "metadata": {
      "needs_background": "light"
     },
     "output_type": "display_data"
    },
    {
     "name": "stdout",
     "output_type": "stream",
     "text": [
      "acurácia: 96.43% \n",
      "\n",
      "============ KNN para k = 3 e p = 2 ============\n",
      "Confusion Matrix (True Classes: columns, Predicted Classes: rows)\n",
      "[[89  3]\n",
      " [ 4 44]]\n"
     ]
    },
    {
     "data": {
      "image/png": "[encoded data removed]",
      "text/plain": [
       "<Figure size 432x288 with 2 Axes>"
      ]
     },
     "metadata": {
      "needs_background": "light"
     },
     "output_type": "display_data"
    },
    {
     "name": "stdout",
     "output_type": "stream",
     "text": [
      "acurácia: 95.00% \n",
      "\n",
      "============ KNN para k = 15 e p = 1 ============\n",
      "Confusion Matrix (True Classes: columns, Predicted Classes: rows)\n",
      "[[90  2]\n",
      " [ 3 45]]\n"
     ]
    },
    {
     "data": {
      "image/png": "[encoded data removed]",
      "text/plain": [
       "<Figure size 432x288 with 2 Axes>"
      ]
     },
     "metadata": {
      "needs_background": "light"
     },
     "output_type": "display_data"
    },
    {
     "name": "stdout",
     "output_type": "stream",
     "text": [
      "acurácia: 96.43% \n",
      "\n",
      "============ KNN para k = 15 e p = 2 ============\n",
      "Confusion Matrix (True Classes: columns, Predicted Classes: rows)\n",
      "[[90  2]\n",
      " [ 1 47]]\n"
     ]
    },
    {
     "data": {
      "image/png": "[encoded data removed]",
      "text/plain": [
       "<Figure size 432x288 with 2 Axes>"
      ]
     },
     "metadata": {
      "needs_background": "light"
     },
     "output_type": "display_data"
    },
    {
     "name": "stdout",
     "output_type": "stream",
     "text": [
      "acurácia: 97.86% \n",
      "\n"
     ]
    }
   ],
   "source": [
    "from sklearn.neighbors import KNeighborsClassifier\n",
    "from sklearn.metrics import confusion_matrix\n",
    "\n",
    "def knn_classifier(k, p):\n",
    "    knn = KNeighborsClassifier(n_neighbors=k, metric='minkowski', p=p)\n",
    "    knn.fit(x_train, y_train)\n",
    "    y_pred = knn.predict(x_test)\n",
    "\n",
    "    print(\"============ KNN para k = %s e p = %s ============\" % (k, p))\n",
    "    cm = confusion_matrix(y_test, y_pred, labels=[2,4])\n",
    "    print(\"Confusion Matrix (True Classes: columns, Predicted Classes: rows)\")\n",
    "    plot_confusion_matrix(cm , classes=[2,4])\n",
    "    print(cm)\n",
    "    plt.show()\n",
    "    acc = (cm[0,0] + cm[1,1]) / (cm[0,0] + cm[0,1] + cm[1,0] + cm[1,1] )\n",
    "    print(\"acurácia: %.2f%% \\n\" % (acc*100))\n",
    "    \n",
    "    \n",
    "knn_classifier(k=3, p=1)\n",
    "knn_classifier(k=3, p=2)\n",
    "knn_classifier(k=15, p=1)\n",
    "knn_classifier(k=15, p=2)"
   ]
  },
  {
   "cell_type": "markdown",
   "metadata": {
    "colab_type": "text",
    "id": "I-xM0b4GM1Z4"
   },
   "source": [
    "\n",
    "\n",
    "---\n",
    "Agora vamos analisar um problema de classificação não binário. Para isso, vamos utilizar o conjunto Iris. Repetindo os passos anteriores:\n",
    "- Carregue o conjunto Iris\n",
    "- Centralize e normalize os dados\n",
    "- Separe o conjunto, de maneira **NÃO** estratificada, em 50% treino e 50% teste (a ideia é que o classificador tenha um erro maior)\n",
    "- Utilize um classificador KNN com K=1 para predizer o conjunto de teste. Essa predição será utilizado posteriormente.\n"
   ]
  },
  {
   "cell_type": "code",
   "execution_count": 8,
   "metadata": {
    "colab": {},
    "colab_type": "code",
    "id": "qR3G6nwVM2s4"
   },
   "outputs": [
    {
     "name": "stdout",
     "output_type": "stream",
     "text": [
      "Verificação se os dados de todas as colunas possuem média 0 e variância 1\n",
      "coluna 0: média: -0.00\tstd:  1\n",
      "coluna 1: média: -0.00\tstd:  1\n",
      "coluna 2: média: -0.00\tstd:  1\n",
      "coluna 3: média: -0.00\tstd:  1\n"
     ]
    }
   ],
   "source": [
    "from sklearn.datasets import load_iris\n",
    "\n",
    "x, y = load_iris(return_X_y=True) #return_X_y: já retorna dados separados\n",
    "\n",
    "# Normalização\n",
    "scaler = StandardScaler()\n",
    "x_norm = scaler.fit_transform(x)\n",
    "\n",
    "print(\"Verificação se os dados de todas as colunas possuem média 0 e variância 1\")\n",
    "for col in range(0, len(x_norm[0])):\n",
    "    print(\"coluna %s: \" % col, end='')\n",
    "    print(\"média: %.2f\" % np.mean(x_norm[:,col]), end='')\n",
    "    print(\"\\tstd: %2.f\" % np.std(x_norm[:,col]))"
   ]
  },
  {
   "cell_type": "code",
   "execution_count": 9,
   "metadata": {},
   "outputs": [],
   "source": [
    "# Separação em conjunto de treinamento e teste\n",
    "test_size = 0.5\n",
    "x_train, x_test, y_train, y_test = train_test_split(x_norm, y, test_size=test_size, stratify=None)"
   ]
  },
  {
   "cell_type": "code",
   "execution_count": 10,
   "metadata": {},
   "outputs": [],
   "source": [
    "knn = KNeighborsClassifier(n_neighbors=1, metric='minkowski', p=2)\n",
    "knn.fit(x_train, y_train)\n",
    "y_pred = knn.predict(x_test)"
   ]
  },
  {
   "cell_type": "markdown",
   "metadata": {
    "colab_type": "text",
    "id": "3mdi9Mf0QGq8"
   },
   "source": [
    "---\n",
    "\n",
    "- Mostre a matriz de confusão do conjunto de teste e em seguida, para cada variável do conjunto, mostre sua matriz de confusão binária.\n",
    "  - Dica: Pesquise sobre o método `numpy.delete`"
   ]
  },
  {
   "cell_type": "code",
   "execution_count": 11,
   "metadata": {
    "colab": {},
    "colab_type": "code",
    "id": "M-3uPd6MQTWT"
   },
   "outputs": [
    {
     "name": "stdout",
     "output_type": "stream",
     "text": [
      "====== KNN para k = 1 e p = 2 ======\n",
      "Confusion Matrix (True Classes: columns, Predicted Classes: rows)\n",
      "[[22  1  0]\n",
      " [ 0 26  7]\n",
      " [ 0  1 18]]\n"
     ]
    },
    {
     "data": {
      "image/png": "[encoded data removed]",
      "text/plain": [
       "<Figure size 432x288 with 2 Axes>"
      ]
     },
     "metadata": {
      "needs_background": "light"
     },
     "output_type": "display_data"
    }
   ],
   "source": [
    "print(\"====== KNN para k = %s e p = %s ======\" % (1, 2))\n",
    "cm = confusion_matrix(y_test, y_pred, labels=[0,1,2])\n",
    "print(\"Confusion Matrix (True Classes: columns, Predicted Classes: rows)\")\n",
    "print(cm)\n",
    "\n",
    "plot_confusion_matrix(cm , classes=[0,1,2])"
   ]
  },
  {
   "cell_type": "code",
   "execution_count": 12,
   "metadata": {},
   "outputs": [
    {
     "name": "stdout",
     "output_type": "stream",
     "text": [
      "=== Matriz de Confusão para a classe 0 ===\n",
      "(True Classes: columns, Predicted Classes: rows)\n",
      "[[22  1]\n",
      " [ 0 52]]\n",
      "\n"
     ]
    },
    {
     "data": {
      "image/png": "[encoded data removed]",
      "text/plain": [
       "<Figure size 432x288 with 2 Axes>"
      ]
     },
     "metadata": {
      "needs_background": "light"
     },
     "output_type": "display_data"
    },
    {
     "name": "stdout",
     "output_type": "stream",
     "text": [
      "=== Matriz de Confusão para a classe 1 ===\n",
      "(True Classes: columns, Predicted Classes: rows)\n",
      "[[26  7]\n",
      " [ 2 40]]\n",
      "\n"
     ]
    },
    {
     "data": {
      "image/png": "[encoded data removed]",
      "text/plain": [
       "<Figure size 432x288 with 2 Axes>"
      ]
     },
     "metadata": {
      "needs_background": "light"
     },
     "output_type": "display_data"
    },
    {
     "name": "stdout",
     "output_type": "stream",
     "text": [
      "=== Matriz de Confusão para a classe 2 ===\n",
      "(True Classes: columns, Predicted Classes: rows)\n",
      "[[18  1]\n",
      " [ 7 49]]\n",
      "\n"
     ]
    },
    {
     "data": {
      "image/png": "[encoded data removed]",
      "text/plain": [
       "<Figure size 432x288 with 2 Axes>"
      ]
     },
     "metadata": {
      "needs_background": "light"
     },
     "output_type": "display_data"
    }
   ],
   "source": [
    "def binary_confusion_matrix(cm, chose_class, size):\n",
    "    bin_cm = np.zeros((2,2), dtype=int)\n",
    "\n",
    "    # Verdadeiros Positivos\n",
    "    bin_cm[0,0] = cm[chose_class, chose_class] \n",
    "\n",
    "    # Verdadeiros Negativos\n",
    "    tmp = np.delete(cm, chose_class, 0)\n",
    "    tmp = np.delete(tmp, chose_class, 1)\n",
    "    bin_cm[1,1] = np.sum(tmp)\n",
    "\n",
    "    # Falsos Negativo\n",
    "    for c in range(0,size):\n",
    "        if c != chose_class:\n",
    "            bin_cm[1,0] += cm[c, chose_class]\n",
    "\n",
    "    # Falso Positivo\n",
    "    for c in range(0,size):\n",
    "        if c != chose_class:\n",
    "            bin_cm[0,1] += cm[chose_class,c]\n",
    "\n",
    "    return bin_cm\n",
    "\n",
    "cms = []\n",
    "n_classes = np.shape(cm)[0]\n",
    "for label in range(0,n_classes):\n",
    "    print('=== Matriz de Confusão para a classe %d ===' % label)\n",
    "    print('(True Classes: columns, Predicted Classes: rows)')\n",
    "    bin_cm = binary_confusion_matrix(cm, label, n_classes)\n",
    "    print(bin_cm, end='\\n\\n')\n",
    "    plot_confusion_matrix(bin_cm, classes=[label, ('not %s' % str(label))])\n",
    "    plt.show()\n",
    "    cms.append(bin_cm)"
   ]
  },
  {
   "cell_type": "markdown",
   "metadata": {
    "colab_type": "text",
    "id": "RZT3vF7uR3VJ"
   },
   "source": [
    "\n",
    "\n",
    "---\n",
    "\n",
    "- Utilizando as matrizes de confusão binárias calculadas acima, calcule o **Recall** e **Precisão** de cada variável do conjunto.\n",
    "  - Dica 1: Lembre-se que ao calcular a matriz de confusão binária para cada classe, obtemos os valores VP, FP, FN e VN.\n",
    "  - Dica 2: Lembre-se que Recall é calculado por $\\frac{VP}{VP+FN}$ e Precisão por  $\\frac{VP}{VP+FP}$."
   ]
  },
  {
   "cell_type": "code",
   "execution_count": 14,
   "metadata": {
    "colab": {},
    "colab_type": "code",
    "id": "guT6-yJ-S6uI"
   },
   "outputs": [
    {
     "name": "stdout",
     "output_type": "stream",
     "text": [
      "=== Classe 0 ===\n",
      "recall: 100.00%\n",
      "precisão: 95.65%\n",
      "\n",
      "=== Classe 1 ===\n",
      "recall: 92.86%\n",
      "precisão: 78.79%\n",
      "\n",
      "=== Classe 2 ===\n",
      "recall: 72.00%\n",
      "precisão: 94.74%\n",
      "\n"
     ]
    }
   ],
   "source": [
    "for label in range(0,n_classes):\n",
    "    cm = cms[label]\n",
    "    recall = cm[0,0] / (cm[0,0] + cm[1,0])\n",
    "    precision = cm[0,0] / (cm[0,0] + cm[0,1])\n",
    "    print(\"=== Classe %s ===\" % label)\n",
    "    print(\"recall: %.2f%%\" % (recall*100))\n",
    "    print(\"precisão: %.2f%%\"% (precision*100), end='\\n\\n')"
   ]
  },
  {
   "cell_type": "markdown",
   "metadata": {
    "colab_type": "text",
    "id": "APzuX9F9HNGB"
   },
   "source": [
    "\n",
    "\n",
    "---\n",
    "Considere o conjunto de dados abaixo, onde são representados um conjunto de $n$ pontos que podem ser classificados em duas classes: verde ou azul. **Todo** o conjunto pode ser visto na imagem abaixo. O ponto preto $q$ é um ponto de consulta, cuja classe é desconhecida. Suponha que foi usado um classificador do tipo KNN com distância euclidiana para classificar esse ponto.\n",
    "\n",
    "\n",
    "![](https://drive.google.com/uc?export=view&id=1e7oUOHOwyFZ8R1Xy0FPUJ8n_M0YGB2_d)\n",
    "\n",
    "\n",
    "- Qual a saída desse classificador para K=3?"
   ]
  },
  {
   "cell_type": "markdown",
   "metadata": {
    "colab_type": "text",
    "id": "7hcbOzE_KHQC"
   },
   "source": [
    "Azul"
   ]
  },
  {
   "cell_type": "markdown",
   "metadata": {
    "colab_type": "text",
    "id": "XeDZ96YeJut7"
   },
   "source": [
    "\n",
    "\n",
    "---\n",
    "\n",
    "- E para K=9?"
   ]
  },
  {
   "cell_type": "markdown",
   "metadata": {
    "colab_type": "text",
    "id": "pS8FZKxtKH0F"
   },
   "source": [
    "Verde"
   ]
  },
  {
   "cell_type": "markdown",
   "metadata": {
    "colab_type": "text",
    "id": "llhVvRuqJ053"
   },
   "source": [
    "\n",
    "\n",
    "---\n",
    "\n",
    " - E para o caso extremo de K=$n$? A posição de $q$ no espaço interfere nesse resultado? Justifique."
   ]
  },
  {
   "cell_type": "markdown",
   "metadata": {
    "colab_type": "text",
    "id": "BHP1oCXHKIMx"
   },
   "source": [
    "Verde, por ter maior número de pontos verdes. \n",
    "\n",
    "A posição de q no espaço não interfere no resultado porque em qualquer local que esse ponto estiver, teremos que contar todos os pontos na tela. Como há um maior número de pontos verdes, o resultado será, consequentemente, verde."
   ]
  }
 ],
 "metadata": {
  "colab": {
   "collapsed_sections": [],
   "name": "Aula07-Exercicio06.ipynb",
   "provenance": [],
   "toc_visible": true,
   "version": "0.3.2"
  },
  "kernelspec": {
   "display_name": "Python 3",
   "language": "python",
   "name": "python3"
  },
  "language_info": {
   "codemirror_mode": {
    "name": "ipython",
    "version": 3
   },
   "file_extension": ".py",
   "mimetype": "text/x-python",
   "name": "python",
   "nbconvert_exporter": "python",
   "pygments_lexer": "ipython3",
   "version": "3.7.1"
  }
 },
 "nbformat": 4,
 "nbformat_minor": 1
}
