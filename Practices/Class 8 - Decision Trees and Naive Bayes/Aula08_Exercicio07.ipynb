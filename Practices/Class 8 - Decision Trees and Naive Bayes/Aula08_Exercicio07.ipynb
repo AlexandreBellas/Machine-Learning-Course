{
 "cells": [
  {
   "cell_type": "markdown",
   "metadata": {
    "colab_type": "text",
    "id": "-1PHcVpNKCR3"
   },
   "source": [
    "# Aula 08 - Exercício 07\n",
    "## Árvores de decisão e Naive-Bayes\n",
    "### Alunos:\n",
    "- Alexandre Batistella Bellas, 9763168\n",
    "- Moisés Botarro Ferraz Silva, 8504135"
   ]
  },
  {
   "cell_type": "markdown",
   "metadata": {
    "colab_type": "text",
    "id": "30yptxnWKCR7"
   },
   "source": [
    "---\n",
    "O dataset *Statlog (German Credit Data) Data Set* é um dataset que visa classificar o risco de crédito de pessoas através de um conjunto de atributos. A classificação é feita em risco \"Good\" (bom - baixo risco) ou risco \"Bad\" (ruim - alto risco). Ao todo são 24 atributos numéricos e 1 atributo nominal, que representa a classe.\n",
    "\n",
    "Esse dataset também apresenta o que chamamos de *matriz de custo*. Essa matriz é similar à matriz de confusão para o caso binário, porém, os elementos dessa matriz representam o custo associado com cada tipo de classificação. \n",
    "\n",
    "A matriz de custo desse dataset é dada abaixo:\n",
    "\n",
    "|                  x | Good (Predito) | Bad (Predito) |\n",
    "|-------------------:|------------:|-----------:|\n",
    "| **Good (Real)** |           0 |          1 |\n",
    "|  **Bad (Real)** |           5 |          0 |\n",
    "\n",
    "A análsie dessa matriz pode ser feita da seguinte maneira: se uma classe real \"Good\" for predita como \"Bad\", existe um custo 1 associado. Todavia, se uma classe real \"Bad\" for predita como \"Good\", o custo associado é 5. Ou seja, um tipo de erro é melhor (menos custoso) do que o outro. \n",
    "\n",
    "O dataset pode ser carregado através do arquivo **data.csv**.\n"
   ]
  },
  {
   "cell_type": "markdown",
   "metadata": {
    "colab_type": "text",
    "id": "R0WULhFnKCR-"
   },
   "source": [
    "---\n",
    "### Questão 01. \n",
    "\n",
    "Carregue o dataset e separe o conjunto em atributos e classe (X e y)."
   ]
  },
  {
   "cell_type": "code",
   "execution_count": 1,
   "metadata": {
    "colab": {},
    "colab_type": "code",
    "id": "QM9siV_HKCSB"
   },
   "outputs": [
    {
     "data": {
      "text/html": [
       "<div>\n",
       "<style scoped>\n",
       "    .dataframe tbody tr th:only-of-type {\n",
       "        vertical-align: middle;\n",
       "    }\n",
       "\n",
       "    .dataframe tbody tr th {\n",
       "        vertical-align: top;\n",
       "    }\n",
       "\n",
       "    .dataframe thead th {\n",
       "        text-align: right;\n",
       "    }\n",
       "</style>\n",
       "<table border=\"1\" class=\"dataframe\">\n",
       "  <thead>\n",
       "    <tr style=\"text-align: right;\">\n",
       "      <th></th>\n",
       "      <th>0</th>\n",
       "      <th>1</th>\n",
       "      <th>2</th>\n",
       "      <th>3</th>\n",
       "      <th>4</th>\n",
       "      <th>5</th>\n",
       "      <th>6</th>\n",
       "      <th>7</th>\n",
       "      <th>8</th>\n",
       "      <th>9</th>\n",
       "      <th>...</th>\n",
       "      <th>15</th>\n",
       "      <th>16</th>\n",
       "      <th>17</th>\n",
       "      <th>18</th>\n",
       "      <th>19</th>\n",
       "      <th>20</th>\n",
       "      <th>21</th>\n",
       "      <th>22</th>\n",
       "      <th>23</th>\n",
       "      <th>class</th>\n",
       "    </tr>\n",
       "  </thead>\n",
       "  <tbody>\n",
       "    <tr>\n",
       "      <th>0</th>\n",
       "      <td>1</td>\n",
       "      <td>6</td>\n",
       "      <td>4</td>\n",
       "      <td>12</td>\n",
       "      <td>5</td>\n",
       "      <td>5</td>\n",
       "      <td>3</td>\n",
       "      <td>4</td>\n",
       "      <td>1</td>\n",
       "      <td>67</td>\n",
       "      <td>...</td>\n",
       "      <td>0</td>\n",
       "      <td>0</td>\n",
       "      <td>1</td>\n",
       "      <td>0</td>\n",
       "      <td>0</td>\n",
       "      <td>1</td>\n",
       "      <td>0</td>\n",
       "      <td>0</td>\n",
       "      <td>1</td>\n",
       "      <td>good</td>\n",
       "    </tr>\n",
       "    <tr>\n",
       "      <th>1</th>\n",
       "      <td>2</td>\n",
       "      <td>48</td>\n",
       "      <td>2</td>\n",
       "      <td>60</td>\n",
       "      <td>1</td>\n",
       "      <td>3</td>\n",
       "      <td>2</td>\n",
       "      <td>2</td>\n",
       "      <td>1</td>\n",
       "      <td>22</td>\n",
       "      <td>...</td>\n",
       "      <td>0</td>\n",
       "      <td>0</td>\n",
       "      <td>1</td>\n",
       "      <td>0</td>\n",
       "      <td>0</td>\n",
       "      <td>1</td>\n",
       "      <td>0</td>\n",
       "      <td>0</td>\n",
       "      <td>1</td>\n",
       "      <td>bad</td>\n",
       "    </tr>\n",
       "    <tr>\n",
       "      <th>2</th>\n",
       "      <td>4</td>\n",
       "      <td>12</td>\n",
       "      <td>4</td>\n",
       "      <td>21</td>\n",
       "      <td>1</td>\n",
       "      <td>4</td>\n",
       "      <td>3</td>\n",
       "      <td>3</td>\n",
       "      <td>1</td>\n",
       "      <td>49</td>\n",
       "      <td>...</td>\n",
       "      <td>0</td>\n",
       "      <td>0</td>\n",
       "      <td>1</td>\n",
       "      <td>0</td>\n",
       "      <td>0</td>\n",
       "      <td>1</td>\n",
       "      <td>0</td>\n",
       "      <td>1</td>\n",
       "      <td>0</td>\n",
       "      <td>good</td>\n",
       "    </tr>\n",
       "    <tr>\n",
       "      <th>3</th>\n",
       "      <td>1</td>\n",
       "      <td>42</td>\n",
       "      <td>2</td>\n",
       "      <td>79</td>\n",
       "      <td>1</td>\n",
       "      <td>4</td>\n",
       "      <td>3</td>\n",
       "      <td>4</td>\n",
       "      <td>2</td>\n",
       "      <td>45</td>\n",
       "      <td>...</td>\n",
       "      <td>0</td>\n",
       "      <td>0</td>\n",
       "      <td>0</td>\n",
       "      <td>0</td>\n",
       "      <td>0</td>\n",
       "      <td>0</td>\n",
       "      <td>0</td>\n",
       "      <td>0</td>\n",
       "      <td>1</td>\n",
       "      <td>good</td>\n",
       "    </tr>\n",
       "    <tr>\n",
       "      <th>4</th>\n",
       "      <td>1</td>\n",
       "      <td>24</td>\n",
       "      <td>3</td>\n",
       "      <td>49</td>\n",
       "      <td>1</td>\n",
       "      <td>3</td>\n",
       "      <td>3</td>\n",
       "      <td>4</td>\n",
       "      <td>4</td>\n",
       "      <td>53</td>\n",
       "      <td>...</td>\n",
       "      <td>1</td>\n",
       "      <td>0</td>\n",
       "      <td>1</td>\n",
       "      <td>0</td>\n",
       "      <td>0</td>\n",
       "      <td>0</td>\n",
       "      <td>0</td>\n",
       "      <td>0</td>\n",
       "      <td>1</td>\n",
       "      <td>bad</td>\n",
       "    </tr>\n",
       "  </tbody>\n",
       "</table>\n",
       "<p>5 rows × 25 columns</p>\n",
       "</div>"
      ],
      "text/plain": [
       "   0   1  2   3  4  5  6  7  8   9  ...    15  16  17  18  19  20  21  22  23  \\\n",
       "0  1   6  4  12  5  5  3  4  1  67  ...     0   0   1   0   0   1   0   0   1   \n",
       "1  2  48  2  60  1  3  2  2  1  22  ...     0   0   1   0   0   1   0   0   1   \n",
       "2  4  12  4  21  1  4  3  3  1  49  ...     0   0   1   0   0   1   0   1   0   \n",
       "3  1  42  2  79  1  4  3  4  2  45  ...     0   0   0   0   0   0   0   0   1   \n",
       "4  1  24  3  49  1  3  3  4  4  53  ...     1   0   1   0   0   0   0   0   1   \n",
       "\n",
       "   class  \n",
       "0   good  \n",
       "1    bad  \n",
       "2   good  \n",
       "3   good  \n",
       "4    bad  \n",
       "\n",
       "[5 rows x 25 columns]"
      ]
     },
     "execution_count": 1,
     "metadata": {},
     "output_type": "execute_result"
    }
   ],
   "source": [
    "import pandas as pd\n",
    "import numpy as np\n",
    "\n",
    "df = pd.read_csv('data.csv')\n",
    "\n",
    "def partition_data(data):\n",
    "    x = data[data.columns[:-1]].values\n",
    "    y = data[data.columns[-1]].values\n",
    "    return x, y\n",
    "\n",
    "x, y = partition_data(df)\n",
    "df.head()"
   ]
  },
  {
   "cell_type": "code",
   "execution_count": 2,
   "metadata": {},
   "outputs": [
    {
     "name": "stdout",
     "output_type": "stream",
     "text": [
      "# dados: 1000\n",
      "[[ 1  6  4 12  5  5  3  4  1 67  3  2  1  2  1  0  0  1  0  0  1  0  0  1]\n",
      " [ 2 48  2 60  1  3  2  2  1 22  3  1  1  1  1  0  0  1  0  0  1  0  0  1]\n",
      " [ 4 12  4 21  1  4  3  3  1 49  3  1  2  1  1  0  0  1  0  0  1  0  1  0]\n",
      " [ 1 42  2 79  1  4  3  4  2 45  3  1  2  1  1  0  0  0  0  0  0  0  0  1]\n",
      " [ 1 24  3 49  1  3  3  4  4 53  3  2  2  1  1  1  0  1  0  0  0  0  0  1]]\n"
     ]
    }
   ],
   "source": [
    "print(\"# dados:\", x.shape[0])\n",
    "print(x[:5])"
   ]
  },
  {
   "cell_type": "code",
   "execution_count": 3,
   "metadata": {},
   "outputs": [
    {
     "name": "stdout",
     "output_type": "stream",
     "text": [
      "# dados: 1000\n",
      "['good' 'bad' 'good' 'good' 'bad']\n"
     ]
    }
   ],
   "source": [
    "print(\"# dados:\", y.shape[0])\n",
    "print(y[:5])"
   ]
  },
  {
   "cell_type": "markdown",
   "metadata": {
    "colab_type": "text",
    "id": "D_CHrSUFKCSK"
   },
   "source": [
    "---\n",
    "### Questão 02.\n",
    "Utilize 10-fold cross-validation estratificado para estimar a acurácia do classificador `sklearn.tree.DecisionTreeClassifier` com `criterion=\"entropy\"`."
   ]
  },
  {
   "cell_type": "code",
   "execution_count": 4,
   "metadata": {},
   "outputs": [],
   "source": [
    "def print_accs_stats(accs):\n",
    "    mean, std = np.mean(accs), np.std(accs)\n",
    "    print(\"Medidas: %s\" % accs)\n",
    "    print(\"Média: %2.2f%%\" % (mean*100))\n",
    "    print(\"Desvio Padrão: %2.2f%%\" % (std*100))"
   ]
  },
  {
   "cell_type": "code",
   "execution_count": 5,
   "metadata": {
    "colab": {},
    "colab_type": "code",
    "id": "RJnq4EQuKCSO"
   },
   "outputs": [
    {
     "name": "stdout",
     "output_type": "stream",
     "text": [
      "==== Acurácia para Árvore de Decisão ====\n",
      "Medidas: [0.69, 0.6, 0.7, 0.65, 0.64, 0.69, 0.71, 0.7, 0.73, 0.7]\n",
      "Média: 68.10%\n",
      "Desvio Padrão: 3.70%\n"
     ]
    }
   ],
   "source": [
    "from sklearn.tree import DecisionTreeClassifier\n",
    "from sklearn.model_selection import StratifiedKFold\n",
    "import random \n",
    "\n",
    "random.seed(0)\n",
    "\n",
    "skf = StratifiedKFold(n_splits=10)\n",
    "dt_accs = []\n",
    "\n",
    "for train_index, test_index in skf.split(x,y):\n",
    "    x_train, x_test = x[train_index], x[test_index]\n",
    "    y_train, y_test = y[train_index], y[test_index]\n",
    "    \n",
    "    dt = DecisionTreeClassifier(criterion='entropy', random_state=0)\n",
    "    dt.fit(x_train, y_train)\n",
    "    dt_accs.append(dt.score(x_test, y_test))\n",
    "\n",
    "print(\"==== Acurácia para Árvore de Decisão ====\")\n",
    "print_accs_stats(dt_accs)"
   ]
  },
  {
   "cell_type": "markdown",
   "metadata": {
    "colab_type": "text",
    "id": "go_-atKbKCSY"
   },
   "source": [
    "---\n",
    "### Questão 03.\n",
    "Agora utilize 10-fold cross-validation estratificado para estimar a acurácia do classificador `sklearn.naive_bayes.GaussianNB`"
   ]
  },
  {
   "cell_type": "code",
   "execution_count": 6,
   "metadata": {
    "colab": {},
    "colab_type": "code",
    "id": "GiArL3LBKCSc"
   },
   "outputs": [
    {
     "name": "stdout",
     "output_type": "stream",
     "text": [
      "==== Acurácia para Naive Bayes ====\n",
      "Medidas: [0.72, 0.64, 0.78, 0.71, 0.77, 0.79, 0.64, 0.8, 0.73, 0.72]\n",
      "Média: 73.00%\n",
      "Desvio Padrão: 5.42%\n"
     ]
    }
   ],
   "source": [
    "from sklearn.naive_bayes import GaussianNB\n",
    "\n",
    "skf = StratifiedKFold(n_splits=10)\n",
    "nb_accs = []\n",
    "\n",
    "for train_index, test_index in skf.split(x,y):\n",
    "    x_train, x_test = x[train_index], x[test_index]\n",
    "    y_train, y_test = y[train_index], y[test_index]\n",
    "    \n",
    "    nb = GaussianNB()\n",
    "    nb.fit(x_train, y_train)\n",
    "    nb_accs.append(nb.score(x_test, y_test))\n",
    "    \n",
    "print(\"==== Acurácia para Naive Bayes ====\")\n",
    "print_accs_stats(nb_accs)"
   ]
  },
  {
   "cell_type": "markdown",
   "metadata": {
    "colab_type": "text",
    "id": "F8PIoGN_KCSk"
   },
   "source": [
    "---\n",
    "### Questão 04.\n",
    "Repita o procedimento da *Questão 02*, mas agora **calcule e imprima** a matriz de confusão do dataset, bem como a **acurácia calculada através da matriz de confusão** (o valor deve ser o mesmo do calculado anteriormente).\n",
    "\n",
    "Para isso, inicialize uma matriz $2\\times2$ com valores 0 e some, para cada fold, a matriz de confusão no conjunto de teste. Essa matriz irá funcionar basicamente como um acumulador e, ao final das 10 execuções, ela representará a matriz de confusão no conjunto como um todo."
   ]
  },
  {
   "cell_type": "code",
   "execution_count": 7,
   "metadata": {},
   "outputs": [],
   "source": [
    "# compute_accuracy calcula valor de acurácia à partir da matriz de confusão\n",
    "def compute_accuracy(cm):\n",
    "    return (cm[0,0] + cm[1,1]) / np.sum(cm) \n",
    "    "
   ]
  },
  {
   "cell_type": "code",
   "execution_count": 11,
   "metadata": {
    "colab": {},
    "colab_type": "code",
    "id": "5hUehgvvKCSm"
   },
   "outputs": [
    {
     "name": "stdout",
     "output_type": "stream",
     "text": [
      "==== Acurácia para Árvore de Decisão - à partir da matriz de confusão ====\n",
      "Matriz de confusão:\n",
      " [[542 158]\n",
      " [161 139]]\n",
      "Acurácia :68.10%\n"
     ]
    }
   ],
   "source": [
    "from sklearn.metrics import confusion_matrix\n",
    "\n",
    "skf = StratifiedKFold(n_splits=10)\n",
    "dt_cm = np.zeros((2,2), dtype=int)\n",
    "\n",
    "for train_index, test_index in skf.split(x,y):\n",
    "    x_train, x_test = x[train_index], x[test_index]\n",
    "    y_train, y_test = y[train_index], y[test_index]\n",
    "    \n",
    "    dt = DecisionTreeClassifier(criterion='entropy', random_state=0)\n",
    "    dt.fit(x_train, y_train)\n",
    "    y_pred = dt.predict(x_test)\n",
    "    dt_cm_fold = confusion_matrix(y_test, y_pred, ['good', 'bad'])\n",
    "    dt_cm += dt_cm_fold\n",
    "\n",
    "print(\"==== Acurácia para Árvore de Decisão - à partir da matriz de confusão ====\")\n",
    "print(\"Matriz de confusão:\\n %s\" % dt_cm)\n",
    "print(\"Acurácia: %2.2f%%\" % (compute_accuracy(dt_cm)*100))"
   ]
  },
  {
   "cell_type": "markdown",
   "metadata": {
    "colab_type": "text",
    "id": "aSOj9PLOKCSv"
   },
   "source": [
    "---\n",
    "### Questão 05.\n",
    "Repita o procedimento da *Questão 04*, mas ao invés de usar o classificado `sklearn.tree.DecisionTreeClassifier`, utilize `sklearn.naive_bayes.GaussianNB`"
   ]
  },
  {
   "cell_type": "code",
   "execution_count": 12,
   "metadata": {
    "colab": {},
    "colab_type": "code",
    "id": "i4Dgw-qSKCSw"
   },
   "outputs": [
    {
     "name": "stdout",
     "output_type": "stream",
     "text": [
      "==== Acurácia para Naïve Bayes - à partir da matriz de confusão ====\n",
      "Matriz de confusão:\n",
      " [[544 156]\n",
      " [114 186]]\n",
      "Acurácia: 73.00%\n"
     ]
    }
   ],
   "source": [
    "skf = StratifiedKFold(n_splits=10)\n",
    "nb_cm = np.zeros((2,2), dtype=int)\n",
    "\n",
    "for train_index, test_index in skf.split(x,y):\n",
    "    x_train, x_test = x[train_index], x[test_index]\n",
    "    y_train, y_test = y[train_index], y[test_index]\n",
    "    \n",
    "    nb = GaussianNB()\n",
    "    nb.fit(x_train, y_train)\n",
    "    y_pred = nb.predict(x_test)\n",
    "    nb_cm_fold = confusion_matrix(y_test, y_pred, ['good', 'bad'])\n",
    "    nb_cm += nb_cm_fold\n",
    "\n",
    "print(\"==== Acurácia para Naïve Bayes - à partir da matriz de confusão ====\")\n",
    "print(\"Matriz de confusão:\\n %s\" % nb_cm)\n",
    "print(\"Acurácia: %2.2f%%\" % (compute_accuracy(nb_cm)*100))"
   ]
  },
  {
   "cell_type": "markdown",
   "metadata": {
    "colab_type": "text",
    "id": "Lbmi2QQdKCS5"
   },
   "source": [
    "---\n",
    "\n",
    "### Questão 06.\n",
    "Calcule o custo associado a cada classificador e defina qual deles é o melhor. Para isso utilize as matrizes de confusão calculadas nas questões 04 e 05 e a matriz de custo especificada na descrição do dataset."
   ]
  },
  {
   "cell_type": "code",
   "execution_count": 13,
   "metadata": {},
   "outputs": [
    {
     "name": "stdout",
     "output_type": "stream",
     "text": [
      "[[0 1]\n",
      " [5 0]]\n"
     ]
    }
   ],
   "source": [
    "cost_matrix = np.array([[0,1],[5,0]])\n",
    "print(cost_matrix)"
   ]
  },
  {
   "cell_type": "code",
   "execution_count": 14,
   "metadata": {
    "colab": {},
    "colab_type": "code",
    "id": "_SFV7NasKCS8"
   },
   "outputs": [
    {
     "name": "stdout",
     "output_type": "stream",
     "text": [
      "==== Árvore de Decisão ====\n",
      "Matriz de confusão:\n",
      " [[542 158]\n",
      " [161 139]]\n",
      "Matriz de custo:\n",
      " [[  0 158]\n",
      " [805   0]]\n",
      "Custo TOTAL:  963\n"
     ]
    }
   ],
   "source": [
    "# Para Árvores de Decisão\n",
    "dt_cost = np.multiply(cost_matrix, dt_cm)\n",
    "\n",
    "print(\"==== Árvore de Decisão ====\")\n",
    "\n",
    "print(\"Matriz de confusão:\\n %s\" % dt_cm)\n",
    "print(\"Matriz de custo:\\n %s\" % dt_cost)\n",
    "\n",
    "print(\"Custo TOTAL: \", np.sum(dt_cost))"
   ]
  },
  {
   "cell_type": "code",
   "execution_count": 15,
   "metadata": {},
   "outputs": [
    {
     "name": "stdout",
     "output_type": "stream",
     "text": [
      "==== Naïve Bayes ====\n",
      "Matriz de confusão:\n",
      " [[544 156]\n",
      " [114 186]]\n",
      "Matriz de custo:\n",
      " [[  0 156]\n",
      " [570   0]]\n",
      "Custo TOTAL:  726\n"
     ]
    }
   ],
   "source": [
    "# Para Naïve Bayes\n",
    "nb_cost = np.multiply(cost_matrix, nb_cm)\n",
    "\n",
    "print(\"==== Naïve Bayes ====\")\n",
    "\n",
    "print(\"Matriz de confusão:\\n %s\" % nb_cm)\n",
    "print(\"Matriz de custo:\\n %s\" % nb_cost)\n",
    "\n",
    "print(\"Custo TOTAL: \", np.sum(nb_cost))"
   ]
  },
  {
   "cell_type": "markdown",
   "metadata": {},
   "source": [
    "É possível observar que a acurácia obtida para o modelo Naïve Bayes (73%) é maior que a obtida para a Árvore de Decisão (68.10%). Além disso, o custo associado ao Naïve Bayes (726) foi menor do que aquele associado à Árvore (963).\n",
    "\n",
    "Assim, tomando como base o conjunto de dados oferecidos, podemos concluir que *utilizar o modelo Naïve Bayes é mais adequado para este problema.*"
   ]
  },
  {
   "cell_type": "markdown",
   "metadata": {
    "colab_type": "text",
    "id": "m3DqXpziqYv4"
   },
   "source": [
    "---\n",
    "### Questão 07.\n",
    "Utilize o software Weka (https://www.cs.waikato.ac.nz/~ml/weka/) e realize classificação utilizando a árvore de decisão  J48. Reporte a acurácia do classificador sem pruning, com pruning=0.25 e pruning=0.1. "
   ]
  },
  {
   "cell_type": "markdown",
   "metadata": {},
   "source": [
    "Após o treinamento dos modelos usando o Weka à partir do conjunto de dados fornecidos, obtemos os seguintes valores para a acurácia:\n",
    "\n",
    "- Sem pruning: **70.4%**\n",
    "- Com pruning=0.25: **73.9%** \n",
    "- Com pruning=0.1: **72.5%**\n"
   ]
  }
 ],
 "metadata": {
  "colab": {
   "collapsed_sections": [],
   "name": "Aula08-Exercicio07.ipynb",
   "provenance": [],
   "version": "0.3.2"
  },
  "kernelspec": {
   "display_name": "Python 3",
   "language": "python",
   "name": "python3"
  },
  "language_info": {
   "codemirror_mode": {
    "name": "ipython",
    "version": 3
   },
   "file_extension": ".py",
   "mimetype": "text/x-python",
   "name": "python",
   "nbconvert_exporter": "python",
   "pygments_lexer": "ipython3",
   "version": "3.7.1"
  }
 },
 "nbformat": 4,
 "nbformat_minor": 1
}
