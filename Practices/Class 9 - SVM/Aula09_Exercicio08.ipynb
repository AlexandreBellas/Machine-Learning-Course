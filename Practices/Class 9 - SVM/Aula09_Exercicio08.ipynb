{
 "cells": [
  {
   "cell_type": "markdown",
   "metadata": {
    "colab_type": "text",
    "id": "hfSGsagoqV3H"
   },
   "source": [
    "# Aula 09 - Exercício 08\n",
    "## SVM\n",
    "### Alunos:\n",
    "- Alexandre Batistella Bellas, 9763168\n",
    "- Moisés Botarro Ferraz Silva, 8504135\n"
   ]
  },
  {
   "cell_type": "markdown",
   "metadata": {
    "colab_type": "text",
    "id": "sP8aTNSXqv9k"
   },
   "source": [
    "---\n",
    " ### Descrição do dataset\n",
    " \n",
    " \n",
    " O dataset \"Heart Diseases \" (mais informações [aqui](https://www.kaggle.com/ronitf/heart-disease-uci/version/1)) é um dataset de classificação que contém 13 atributos numéricos, que representam alguns índices médicos de pacientes. O atributo \"target\" refere-se a presença - ou não - de doênça cardíaca no paciente.\n",
    " \n",
    "--- \n",
    "### Questão 01.\n",
    "Carregue o arquivo `heart.csv`, separe os dados (variáveis independentes e dependente) e escale os valores entre 0 e 1."
   ]
  },
  {
   "cell_type": "code",
   "execution_count": 1,
   "metadata": {
    "colab": {},
    "colab_type": "code",
    "id": "BhAuX9FnpkeA"
   },
   "outputs": [
    {
     "data": {
      "text/html": [
       "<div>\n",
       "<style scoped>\n",
       "    .dataframe tbody tr th:only-of-type {\n",
       "        vertical-align: middle;\n",
       "    }\n",
       "\n",
       "    .dataframe tbody tr th {\n",
       "        vertical-align: top;\n",
       "    }\n",
       "\n",
       "    .dataframe thead th {\n",
       "        text-align: right;\n",
       "    }\n",
       "</style>\n",
       "<table border=\"1\" class=\"dataframe\">\n",
       "  <thead>\n",
       "    <tr style=\"text-align: right;\">\n",
       "      <th></th>\n",
       "      <th>age</th>\n",
       "      <th>sex</th>\n",
       "      <th>cp</th>\n",
       "      <th>trestbps</th>\n",
       "      <th>chol</th>\n",
       "      <th>fbs</th>\n",
       "      <th>restecg</th>\n",
       "      <th>thalach</th>\n",
       "      <th>exang</th>\n",
       "      <th>oldpeak</th>\n",
       "      <th>slope</th>\n",
       "      <th>ca</th>\n",
       "      <th>thal</th>\n",
       "      <th>target</th>\n",
       "    </tr>\n",
       "  </thead>\n",
       "  <tbody>\n",
       "    <tr>\n",
       "      <th>0</th>\n",
       "      <td>63</td>\n",
       "      <td>1</td>\n",
       "      <td>3</td>\n",
       "      <td>145</td>\n",
       "      <td>233</td>\n",
       "      <td>1</td>\n",
       "      <td>0</td>\n",
       "      <td>150</td>\n",
       "      <td>0</td>\n",
       "      <td>2.3</td>\n",
       "      <td>0</td>\n",
       "      <td>0</td>\n",
       "      <td>1</td>\n",
       "      <td>1</td>\n",
       "    </tr>\n",
       "    <tr>\n",
       "      <th>1</th>\n",
       "      <td>37</td>\n",
       "      <td>1</td>\n",
       "      <td>2</td>\n",
       "      <td>130</td>\n",
       "      <td>250</td>\n",
       "      <td>0</td>\n",
       "      <td>1</td>\n",
       "      <td>187</td>\n",
       "      <td>0</td>\n",
       "      <td>3.5</td>\n",
       "      <td>0</td>\n",
       "      <td>0</td>\n",
       "      <td>2</td>\n",
       "      <td>1</td>\n",
       "    </tr>\n",
       "    <tr>\n",
       "      <th>2</th>\n",
       "      <td>41</td>\n",
       "      <td>0</td>\n",
       "      <td>1</td>\n",
       "      <td>130</td>\n",
       "      <td>204</td>\n",
       "      <td>0</td>\n",
       "      <td>0</td>\n",
       "      <td>172</td>\n",
       "      <td>0</td>\n",
       "      <td>1.4</td>\n",
       "      <td>2</td>\n",
       "      <td>0</td>\n",
       "      <td>2</td>\n",
       "      <td>1</td>\n",
       "    </tr>\n",
       "    <tr>\n",
       "      <th>3</th>\n",
       "      <td>56</td>\n",
       "      <td>1</td>\n",
       "      <td>1</td>\n",
       "      <td>120</td>\n",
       "      <td>236</td>\n",
       "      <td>0</td>\n",
       "      <td>1</td>\n",
       "      <td>178</td>\n",
       "      <td>0</td>\n",
       "      <td>0.8</td>\n",
       "      <td>2</td>\n",
       "      <td>0</td>\n",
       "      <td>2</td>\n",
       "      <td>1</td>\n",
       "    </tr>\n",
       "    <tr>\n",
       "      <th>4</th>\n",
       "      <td>57</td>\n",
       "      <td>0</td>\n",
       "      <td>0</td>\n",
       "      <td>120</td>\n",
       "      <td>354</td>\n",
       "      <td>0</td>\n",
       "      <td>1</td>\n",
       "      <td>163</td>\n",
       "      <td>1</td>\n",
       "      <td>0.6</td>\n",
       "      <td>2</td>\n",
       "      <td>0</td>\n",
       "      <td>2</td>\n",
       "      <td>1</td>\n",
       "    </tr>\n",
       "  </tbody>\n",
       "</table>\n",
       "</div>"
      ],
      "text/plain": [
       "   age  sex  cp  trestbps  chol  fbs  restecg  thalach  exang  oldpeak  slope  \\\n",
       "0   63    1   3       145   233    1        0      150      0      2.3      0   \n",
       "1   37    1   2       130   250    0        1      187      0      3.5      0   \n",
       "2   41    0   1       130   204    0        0      172      0      1.4      2   \n",
       "3   56    1   1       120   236    0        1      178      0      0.8      2   \n",
       "4   57    0   0       120   354    0        1      163      1      0.6      2   \n",
       "\n",
       "   ca  thal  target  \n",
       "0   0     1       1  \n",
       "1   0     2       1  \n",
       "2   0     2       1  \n",
       "3   0     2       1  \n",
       "4   0     2       1  "
      ]
     },
     "execution_count": 1,
     "metadata": {},
     "output_type": "execute_result"
    }
   ],
   "source": [
    "import pandas as pd\n",
    "import numpy as np\n",
    "import random \n",
    "\n",
    "random.seed(1)\n",
    "\n",
    "df = pd.read_csv('heart.csv')\n",
    "df.head(5)"
   ]
  },
  {
   "cell_type": "code",
   "execution_count": 2,
   "metadata": {},
   "outputs": [
    {
     "name": "stdout",
     "output_type": "stream",
     "text": [
      "X shape:  (303, 13)\n",
      "[[63.  1.  3. ...  0.  0.  1.]\n",
      " [37.  1.  2. ...  0.  0.  2.]\n",
      " [41.  0.  1. ...  2.  0.  2.]\n",
      " ...\n",
      " [68.  1.  0. ...  1.  2.  3.]\n",
      " [57.  1.  0. ...  1.  1.  3.]\n",
      " [57.  0.  1. ...  1.  1.  2.]]\n",
      "\n",
      "Y shape (303,)\n",
      "0    1\n",
      "1    1\n",
      "2    1\n",
      "3    1\n",
      "4    1\n",
      "Name: target, dtype: int64\n"
     ]
    }
   ],
   "source": [
    "# Separação entre variáveis dependentes e independentes\n",
    "\n",
    "X = np.array(df[df.columns[:-1]], dtype='float')\n",
    "Y = df[df.columns[-1]]\n",
    "\n",
    "print('X shape: ', X.shape)\n",
    "print(X, end='\\n\\n')\n",
    "\n",
    "print('Y shape', Y.shape)\n",
    "print(Y.head(5))"
   ]
  },
  {
   "cell_type": "code",
   "execution_count": 3,
   "metadata": {},
   "outputs": [
    {
     "name": "stdout",
     "output_type": "stream",
     "text": [
      "shape X_norm:  (303, 13)\n",
      "[[0.70833333 1.         1.         ... 0.         0.         0.33333333]\n",
      " [0.16666667 1.         0.66666667 ... 0.         0.         0.66666667]\n",
      " [0.25       0.         0.33333333 ... 1.         0.         0.66666667]\n",
      " ...\n",
      " [0.8125     1.         0.         ... 0.5        0.5        1.        ]\n",
      " [0.58333333 1.         0.         ... 0.5        0.25       1.        ]\n",
      " [0.58333333 0.         0.33333333 ... 0.5        0.25       0.66666667]]\n"
     ]
    }
   ],
   "source": [
    "# Normalizar valores entre 0 e 1\n",
    "from sklearn.preprocessing import MinMaxScaler\n",
    "\n",
    "scaler = MinMaxScaler()\n",
    "scaler.fit(X)\n",
    "X_norm = scaler.transform(X)\n",
    "\n",
    "print('shape X_norm: ', X_norm.shape)\n",
    "print(X_norm)"
   ]
  },
  {
   "cell_type": "markdown",
   "metadata": {
    "colab_type": "text",
    "id": "E6IV8Yd645vi"
   },
   "source": [
    "--- \n",
    "### Questão 02.\n",
    "Instancie diferentes configurações de SVM's:\n",
    "\n",
    "* SVM linear\n",
    "* SVM polinomial de ordem 2\n",
    "* SVM polinomial de ordem 3\n",
    "* SVM RBF com `gamma = 'auto'`\n",
    "\n",
    "\n",
    "Para deixar o código mais organizável e legível, utilize estruturas do tipo dicionário para instanciar cada classificador bem como um array de scores. Por exemplo, para testar um classificador MLP com 1 camada escondida de 5 neuronios e outro com 2 camadas escondidas de 5 neurônios,  poderíamos instancia-los da forma:\n",
    "\n",
    "```\n",
    "experimentos = { \n",
    "    \"MLP camada escondida (5,)\": {\n",
    "        \"model\" : MLPClassifier(hidden_layer_sizes=(5,),\n",
    "        \"scores\" : []\n",
    "    },\n",
    "    \"MLP camada escondida (5,5)\": {\n",
    "        \"model\" : MLPClassifier(hidden_layer_sizes=(5,5),\n",
    "        \"scores\" : []\n",
    "    }\n",
    "}\n",
    "```"
   ]
  },
  {
   "cell_type": "code",
   "execution_count": 4,
   "metadata": {
    "colab": {},
    "colab_type": "code",
    "id": "YCyk8W6P9QRW"
   },
   "outputs": [
    {
     "data": {
      "text/plain": [
       "{'SVM Linear': {'model': SVC(C=1.0, cache_size=200, class_weight=None, coef0=0.0,\n",
       "    decision_function_shape='ovr', degree=3, gamma='auto', kernel='linear',\n",
       "    max_iter=-1, probability=False, random_state=None, shrinking=True,\n",
       "    tol=0.001, verbose=False), 'scores': []},\n",
       " 'SVM Polinomial de Ordem 2': {'model': SVC(C=1.0, cache_size=200, class_weight=None, coef0=0.0,\n",
       "    decision_function_shape='ovr', degree=2, gamma='auto', kernel='poly',\n",
       "    max_iter=-1, probability=False, random_state=None, shrinking=True,\n",
       "    tol=0.001, verbose=False), 'scores': []},\n",
       " 'SVM Polinomial de Ordem 3': {'model': SVC(C=1.0, cache_size=200, class_weight=None, coef0=0.0,\n",
       "    decision_function_shape='ovr', degree=3, gamma='auto', kernel='poly',\n",
       "    max_iter=-1, probability=False, random_state=None, shrinking=True,\n",
       "    tol=0.001, verbose=False), 'scores': []},\n",
       " 'SVM RBF com gamma = \"auto\"': {'model': SVC(C=1.0, cache_size=200, class_weight=None, coef0=0.0,\n",
       "    decision_function_shape='ovr', degree=3, gamma='auto', kernel='rbf',\n",
       "    max_iter=-1, probability=False, random_state=None, shrinking=True,\n",
       "    tol=0.001, verbose=False), 'scores': []}}"
      ]
     },
     "execution_count": 4,
     "metadata": {},
     "output_type": "execute_result"
    }
   ],
   "source": [
    "from sklearn.svm import SVC\n",
    "\n",
    "# Instanciação dos modelos\n",
    "\n",
    "experimentos = {}\n",
    "experimentos['SVM Linear'] = {'model': SVC(kernel='linear', gamma='auto'), 'scores':[]}\n",
    "experimentos['SVM Polinomial de Ordem 2'] = {'model': SVC(kernel='poly', degree=2, gamma='auto'), 'scores':[]}\n",
    "experimentos['SVM Polinomial de Ordem 3'] = {'model': SVC(kernel='poly', degree=3, gamma='auto'), 'scores':[]}\n",
    "experimentos['SVM RBF com gamma = \"auto\"'] = {'model': SVC(kernel='rbf', gamma='auto'), 'scores':[]}\n",
    "\n",
    "experimentos"
   ]
  },
  {
   "cell_type": "markdown",
   "metadata": {
    "colab_type": "text",
    "id": "6CTR5Dvy72dX"
   },
   "source": [
    "\n",
    "\n",
    "---\n",
    "\n",
    "### Questão 03.\n",
    "\n",
    "Utilize 10-fold cross-validation no conjunto de dados para treinar e obter scores de acurácia dos classificadores para cada fold, de maneira genérica. Ou seja, para cada fold, sua rotina deve iterar pelo dicionário e treinar todos os classificadores e extrair uma medida de score, que será utilizada posteriormente. \n",
    "\n",
    "Para facilitar o debug, imprima informações como o número do fold atual e qual modelo está sendo treinado."
   ]
  },
  {
   "cell_type": "code",
   "execution_count": 5,
   "metadata": {},
   "outputs": [
    {
     "name": "stdout",
     "output_type": "stream",
     "text": [
      "Fold número 1\n",
      "\tTreinando Modelo SVM Linear\n",
      "\tTreinando Modelo SVM Polinomial de Ordem 2\n",
      "\tTreinando Modelo SVM Polinomial de Ordem 3\n",
      "\tTreinando Modelo SVM RBF com gamma = \"auto\"\n",
      "Fold número 2\n",
      "\tTreinando Modelo SVM Linear\n",
      "\tTreinando Modelo SVM Polinomial de Ordem 2\n",
      "\tTreinando Modelo SVM Polinomial de Ordem 3\n",
      "\tTreinando Modelo SVM RBF com gamma = \"auto\"\n",
      "Fold número 3\n",
      "\tTreinando Modelo SVM Linear\n",
      "\tTreinando Modelo SVM Polinomial de Ordem 2\n",
      "\tTreinando Modelo SVM Polinomial de Ordem 3\n",
      "\tTreinando Modelo SVM RBF com gamma = \"auto\"\n",
      "Fold número 4\n",
      "\tTreinando Modelo SVM Linear\n",
      "\tTreinando Modelo SVM Polinomial de Ordem 2\n",
      "\tTreinando Modelo SVM Polinomial de Ordem 3\n",
      "\tTreinando Modelo SVM RBF com gamma = \"auto\"\n",
      "Fold número 5\n",
      "\tTreinando Modelo SVM Linear\n",
      "\tTreinando Modelo SVM Polinomial de Ordem 2\n",
      "\tTreinando Modelo SVM Polinomial de Ordem 3\n",
      "\tTreinando Modelo SVM RBF com gamma = \"auto\"\n",
      "Fold número 6\n",
      "\tTreinando Modelo SVM Linear\n",
      "\tTreinando Modelo SVM Polinomial de Ordem 2\n",
      "\tTreinando Modelo SVM Polinomial de Ordem 3\n",
      "\tTreinando Modelo SVM RBF com gamma = \"auto\"\n",
      "Fold número 7\n",
      "\tTreinando Modelo SVM Linear\n",
      "\tTreinando Modelo SVM Polinomial de Ordem 2\n",
      "\tTreinando Modelo SVM Polinomial de Ordem 3\n",
      "\tTreinando Modelo SVM RBF com gamma = \"auto\"\n",
      "Fold número 8\n",
      "\tTreinando Modelo SVM Linear\n",
      "\tTreinando Modelo SVM Polinomial de Ordem 2\n",
      "\tTreinando Modelo SVM Polinomial de Ordem 3\n",
      "\tTreinando Modelo SVM RBF com gamma = \"auto\"\n",
      "Fold número 9\n",
      "\tTreinando Modelo SVM Linear\n",
      "\tTreinando Modelo SVM Polinomial de Ordem 2\n",
      "\tTreinando Modelo SVM Polinomial de Ordem 3\n",
      "\tTreinando Modelo SVM RBF com gamma = \"auto\"\n",
      "Fold número 10\n",
      "\tTreinando Modelo SVM Linear\n",
      "\tTreinando Modelo SVM Polinomial de Ordem 2\n",
      "\tTreinando Modelo SVM Polinomial de Ordem 3\n",
      "\tTreinando Modelo SVM RBF com gamma = \"auto\"\n"
     ]
    }
   ],
   "source": [
    "from sklearn.model_selection import StratifiedKFold\n",
    "\n",
    "skf = StratifiedKFold(n_splits=10)\n",
    "\n",
    "it = 0\n",
    "for train_index, test_index in skf.split(X_norm, Y):\n",
    "    it += 1\n",
    "    print(\"Fold número %d\" % it)\n",
    "    X_train, X_test = X_norm[train_index], X_norm[test_index]\n",
    "    Y_train, Y_test = Y[train_index], Y[test_index]\n",
    "    \n",
    "    \n",
    "    for model_name, model_obj in experimentos.items():\n",
    "        print(\"\\tTreinando Modelo %s\" % model_name)\n",
    "        \n",
    "        model = model_obj['model']\n",
    "        model.fit(X_train, Y_train)\n",
    "        model_obj['scores'].append(model.score(X_test, Y_test))"
   ]
  },
  {
   "cell_type": "markdown",
   "metadata": {
    "colab_type": "text",
    "id": "hzueZG7t8UxA"
   },
   "source": [
    "\n",
    "\n",
    "---\n",
    "\n",
    "### Questão 04.\n",
    "\n",
    "Finalmente, para cada classificador, exiba a acurácia média e seu desvio padrão. Com base nessas duas medidas, determine qual foi a melhor configuração testada."
   ]
  },
  {
   "cell_type": "code",
   "execution_count": 6,
   "metadata": {
    "colab": {},
    "colab_type": "code",
    "id": "OEAbjJZk82kB"
   },
   "outputs": [
    {
     "name": "stdout",
     "output_type": "stream",
     "text": [
      "SVM Linear\n",
      "\tscores: ['87.10%', '77.42%', '83.87%', '87.10%', '83.87%', '76.67%', '83.33%', '86.67%', '68.97%', '75.86%']\n",
      "\tmédia: 81.08%\n",
      "\tdesvio padrão: 5.75%\n",
      "SVM Polinomial de Ordem 2\n",
      "\tscores: ['80.65%', '70.97%', '80.65%', '77.42%', '74.19%', '76.67%', '86.67%', '76.67%', '72.41%', '75.86%']\n",
      "\tmédia: 77.21%\n",
      "\tdesvio padrão: 4.32%\n",
      "SVM Polinomial de Ordem 3\n",
      "\tscores: ['77.42%', '64.52%', '80.65%', '70.97%', '77.42%', '66.67%', '80.00%', '63.33%', '65.52%', '62.07%']\n",
      "\tmédia: 70.86%\n",
      "\tdesvio padrão: 6.97%\n",
      "SVM RBF com gamma = \"auto\"\n",
      "\tscores: ['83.87%', '80.65%', '83.87%', '90.32%', '83.87%', '83.33%', '80.00%', '76.67%', '72.41%', '86.21%']\n",
      "\tmédia: 82.12%\n",
      "\tdesvio padrão: 4.75%\n"
     ]
    }
   ],
   "source": [
    "for model_name, model_obj in experimentos.items():\n",
    "    print(model_name)\n",
    "    scores = model_obj['scores']\n",
    "    print(\"\\tscores: %s\" % [\"%.2f%%\" % (s*100) for s in scores])\n",
    "    print(\"\\tmédia: %.2f%%\" % (np.mean(scores)*100 ))\n",
    "    print(\"\\tdesvio padrão: %.2f%%\" % (np.std(scores)*100 ))"
   ]
  },
  {
   "cell_type": "markdown",
   "metadata": {},
   "source": [
    "Comparando os resultados para média e desvio padrão obtidos para cada modelo, conclui-se que o SVM RBF com gamma automático foi a melhor configuração testada. \n",
    "\n",
    "Ela foi a que apresentou maior acurácia média (82.12%) e comparando-a com o modelo com segunda melhor média (SVM Linear: 81.08%), ela ainda possui menor desvio padrão (4.75% contra 5.75% do modelo linear)."
   ]
  }
 ],
 "metadata": {
  "colab": {
   "collapsed_sections": [],
   "name": "Aula09-Exercicio08.ipynb",
   "provenance": [],
   "version": "0.3.2"
  },
  "kernelspec": {
   "display_name": "Python 3",
   "language": "python",
   "name": "python3"
  },
  "language_info": {
   "codemirror_mode": {
    "name": "ipython",
    "version": 3
   },
   "file_extension": ".py",
   "mimetype": "text/x-python",
   "name": "python",
   "nbconvert_exporter": "python",
   "pygments_lexer": "ipython3",
   "version": "3.7.1"
  }
 },
 "nbformat": 4,
 "nbformat_minor": 1
}
