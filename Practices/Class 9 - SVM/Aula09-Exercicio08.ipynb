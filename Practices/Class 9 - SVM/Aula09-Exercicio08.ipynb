{
 "cells": [
  {
   "cell_type": "markdown",
   "metadata": {
    "colab_type": "text",
    "id": "hfSGsagoqV3H"
   },
   "source": [
    "# Aula 09 - Exercício 08\n",
    "## SVM\n",
    "### Alunos:\n",
    " - \n",
    " - \n",
    " "
   ]
  },
  {
   "cell_type": "markdown",
   "metadata": {
    "colab_type": "text",
    "id": "sP8aTNSXqv9k"
   },
   "source": [
    "---\n",
    " ### Descrição do dataset\n",
    " \n",
    " \n",
    " O dataset \"Heart Diseases \" (mais informações [aqui](https://www.kaggle.com/ronitf/heart-disease-uci/version/1)) é um dataset de classificação que contém 13 atributos numéricos, que representam alguns índices médicos de pacientes. O atributo \"target\" refere-se a presença - ou não - de doênça cardíaca no paciente.\n",
    " \n",
    "--- \n",
    "### Questão 01.\n",
    "Carregue o arquivo `heart.csv`, separe os dados (variáveis dependentes e dependente) e escale os valores entre 0 e 1."
   ]
  },
  {
   "cell_type": "code",
   "execution_count": 0,
   "metadata": {
    "colab": {},
    "colab_type": "code",
    "id": "BhAuX9FnpkeA"
   },
   "outputs": [],
   "source": []
  },
  {
   "cell_type": "markdown",
   "metadata": {
    "colab_type": "text",
    "id": "E6IV8Yd645vi"
   },
   "source": [
    "--- \n",
    "### Questão 02.\n",
    "Instancie diferentes configurações de SVM's:\n",
    "\n",
    "* SVM linear\n",
    "* SVM polinomial de ordem 2\n",
    "* SVM polinomial de ordem 3\n",
    "* SVM RBF com `gamma = 'auto'`\n",
    "\n",
    "\n",
    "Para deixar o código mais organizável e legível, utilize estruturas do tipo dicionário para instanciar cada classificador bem como um array de scores. Por exemplo, para testar um classificador MLP com 1 camada escondida de 5 neuronios e outro com 2 camadas escondidas de 5 neurônios,  poderíamos instancia-los da forma:\n",
    "\n",
    "```\n",
    "experimentos = { \n",
    "    \"MLP camada escondida (5,)\": {\n",
    "        \"model\" : MLPClassifier(hidden_layer_sizes=(5,),\n",
    "        \"scores\" : []\n",
    "    },\n",
    "    \"MLP camada escondida (5,5)\": {\n",
    "        \"model\" : MLPClassifier(hidden_layer_sizes=(5,5),\n",
    "        \"scores\" : []\n",
    "    }\n",
    "}\n",
    "```"
   ]
  },
  {
   "cell_type": "code",
   "execution_count": 0,
   "metadata": {
    "colab": {},
    "colab_type": "code",
    "id": "YCyk8W6P9QRW"
   },
   "outputs": [],
   "source": []
  },
  {
   "cell_type": "markdown",
   "metadata": {
    "colab_type": "text",
    "id": "6CTR5Dvy72dX"
   },
   "source": [
    "\n",
    "\n",
    "---\n",
    "\n",
    "### Questão 03.\n",
    "\n",
    "Utilize 10-fold cross-validation no conjunto de dados para treinar e obter scores de acurácia dos classificadores para cada fold, de maneira genérica. Ou seja, para cada fold, sua rotina deve iterar pelo dicionário e treinar todos os classificadores e extrair uma medida de score, que será utilizada posteriormente. \n",
    "\n",
    "Para facilitar o debug, imprima informações como o número do fold atual e qual modelo está sendo treinado."
   ]
  },
  {
   "cell_type": "code",
   "execution_count": 0,
   "metadata": {
    "colab": {},
    "colab_type": "code",
    "id": "J8mtXhqN888D"
   },
   "outputs": [],
   "source": []
  },
  {
   "cell_type": "markdown",
   "metadata": {
    "colab_type": "text",
    "id": "hzueZG7t8UxA"
   },
   "source": [
    "\n",
    "\n",
    "---\n",
    "\n",
    "### Questão 04.\n",
    "\n",
    "Finalmente, para cada classificador, exiba a acurácia média e seu desvio padrão. Com base nessas duas medidas, determine qual foi a melhor configuração testada."
   ]
  },
  {
   "cell_type": "code",
   "execution_count": 0,
   "metadata": {
    "colab": {},
    "colab_type": "code",
    "id": "OEAbjJZk82kB"
   },
   "outputs": [],
   "source": []
  }
 ],
 "metadata": {
  "colab": {
   "collapsed_sections": [],
   "name": "Aula09-Exercicio08.ipynb",
   "provenance": [],
   "version": "0.3.2"
  },
  "kernelspec": {
   "display_name": "Python 3",
   "language": "python",
   "name": "python3"
  },
  "language_info": {
   "codemirror_mode": {
    "name": "ipython",
    "version": 3
   },
   "file_extension": ".py",
   "mimetype": "text/x-python",
   "name": "python",
   "nbconvert_exporter": "python",
   "pygments_lexer": "ipython3",
   "version": "3.7.1"
  }
 },
 "nbformat": 4,
 "nbformat_minor": 1
}
